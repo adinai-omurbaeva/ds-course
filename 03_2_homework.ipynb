{
 "cells": [
  {
   "cell_type": "markdown",
   "id": "76c8bf06",
   "metadata": {},
   "source": [
    "1. Дан произвольный список. Для примера l= [1, 4, 1, 6, \"hello\", \"a\", 5, \"hello\"]. Найдите в нем все повторяющиеся элементы. Можно использовать цикл for. Найденные повторяющиеся элементы стоит добавлять в новый список, чтобы потом вывести на экран все вместе."
   ]
  },
  {
   "cell_type": "code",
   "execution_count": 4,
   "id": "63747cd1",
   "metadata": {},
   "outputs": [
    {
     "data": {
      "text/plain": [
       "[1, 1, 'hello', 'hello']"
      ]
     },
     "execution_count": 4,
     "metadata": {},
     "output_type": "execute_result"
    }
   ],
   "source": [
    "main_list = [1, 4, 1, 6, \"hello\", \"a\", 5, \"hello\"]\n",
    "new_list = []\n",
    "for i in main_list:\n",
    "    if main_list.count(i) > 1:\n",
    "        new_list.append(i)\n",
    "new_list"
   ]
  },
  {
   "cell_type": "markdown",
   "id": "494d48fc",
   "metadata": {},
   "source": [
    "2. Дана матрица (список из вложеных списков) размера N x N, найдите в ней максимальный элемент"
   ]
  },
  {
   "cell_type": "code",
   "execution_count": 9,
   "id": "df581128",
   "metadata": {},
   "outputs": [
    {
     "data": {
      "text/plain": [
       "90"
      ]
     },
     "execution_count": 9,
     "metadata": {},
     "output_type": "execute_result"
    }
   ],
   "source": [
    "from random import randint\n",
    "\n",
    "n = 5\n",
    "m = [[randint(0, 100) for i in range(n)] for j in range(n)]\n",
    "max_value = 0\n",
    "for i in m:\n",
    "    for j in i:\n",
    "        if j > max_value:\n",
    "            max_value = j\n",
    "max_value"
   ]
  },
  {
   "cell_type": "markdown",
   "id": "3997afdc",
   "metadata": {},
   "source": [
    "3. Дан словарь. Поменяйте в нем местами ключи и значения."
   ]
  },
  {
   "cell_type": "code",
   "execution_count": 23,
   "id": "f1a0fdbc",
   "metadata": {},
   "outputs": [
    {
     "data": {
      "text/plain": [
       "{'hello': 1, 'cat': 2, 'dog': 3}"
      ]
     },
     "execution_count": 23,
     "metadata": {},
     "output_type": "execute_result"
    }
   ],
   "source": [
    "d = {1: \"hello\", 2: \"cat\", 3: \"dog\"}\n",
    "new_d = {}\n",
    "for i in d:\n",
    "    new_d[d[i]] = i\n",
    "new_d"
   ]
  },
  {
   "cell_type": "code",
   "execution_count": null,
   "id": "ec66ed96",
   "metadata": {},
   "outputs": [],
   "source": []
  }
 ],
 "metadata": {
  "kernelspec": {
   "display_name": "Python 3 (ipykernel)",
   "language": "python",
   "name": "python3"
  },
  "language_info": {
   "codemirror_mode": {
    "name": "ipython",
    "version": 3
   },
   "file_extension": ".py",
   "mimetype": "text/x-python",
   "name": "python",
   "nbconvert_exporter": "python",
   "pygments_lexer": "ipython3",
   "version": "3.11.5"
  }
 },
 "nbformat": 4,
 "nbformat_minor": 5
}
