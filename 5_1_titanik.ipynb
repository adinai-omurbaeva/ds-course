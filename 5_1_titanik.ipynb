{
 "cells": [
  {
   "cell_type": "markdown",
   "id": "9c7d9529-2ce7-4f15-bba6-5316f5aa281d",
   "metadata": {},
   "source": [
    "УРОВЕНЬ 1"
   ]
  },
  {
   "cell_type": "code",
   "execution_count": 58,
   "id": "6083bf3b-7b70-4c16-b619-10970168bfb5",
   "metadata": {},
   "outputs": [],
   "source": [
    "import seaborn as sns\n",
    "import pandas as pd\n",
    "import numpy as np\n",
    "import matplotlib.pyplot as plt\n",
    "from sklearn.model_selection import train_test_split\n",
    "from sklearn.linear_model import LogisticRegression\n",
    "from sklearn.metrics import accuracy_score"
   ]
  },
  {
   "cell_type": "code",
   "execution_count": 53,
   "id": "1523280f-2dde-4abf-b4d6-4463f6d74799",
   "metadata": {},
   "outputs": [
    {
     "data": {
      "text/html": [
       "<div>\n",
       "<style scoped>\n",
       "    .dataframe tbody tr th:only-of-type {\n",
       "        vertical-align: middle;\n",
       "    }\n",
       "\n",
       "    .dataframe tbody tr th {\n",
       "        vertical-align: top;\n",
       "    }\n",
       "\n",
       "    .dataframe thead th {\n",
       "        text-align: right;\n",
       "    }\n",
       "</style>\n",
       "<table border=\"1\" class=\"dataframe\">\n",
       "  <thead>\n",
       "    <tr style=\"text-align: right;\">\n",
       "      <th></th>\n",
       "      <th>PassengerId</th>\n",
       "      <th>Survived</th>\n",
       "      <th>Pclass</th>\n",
       "      <th>Name</th>\n",
       "      <th>Sex</th>\n",
       "      <th>Age</th>\n",
       "      <th>SibSp</th>\n",
       "      <th>Parch</th>\n",
       "      <th>Ticket</th>\n",
       "      <th>Fare</th>\n",
       "      <th>Cabin</th>\n",
       "      <th>Embarked</th>\n",
       "    </tr>\n",
       "  </thead>\n",
       "  <tbody>\n",
       "    <tr>\n",
       "      <th>0</th>\n",
       "      <td>1</td>\n",
       "      <td>0</td>\n",
       "      <td>3</td>\n",
       "      <td>Braund, Mr. Owen Harris</td>\n",
       "      <td>male</td>\n",
       "      <td>22.0</td>\n",
       "      <td>1</td>\n",
       "      <td>0</td>\n",
       "      <td>A/5 21171</td>\n",
       "      <td>7.2500</td>\n",
       "      <td>NaN</td>\n",
       "      <td>S</td>\n",
       "    </tr>\n",
       "    <tr>\n",
       "      <th>1</th>\n",
       "      <td>2</td>\n",
       "      <td>1</td>\n",
       "      <td>1</td>\n",
       "      <td>Cumings, Mrs. John Bradley (Florence Briggs Th...</td>\n",
       "      <td>female</td>\n",
       "      <td>38.0</td>\n",
       "      <td>1</td>\n",
       "      <td>0</td>\n",
       "      <td>PC 17599</td>\n",
       "      <td>71.2833</td>\n",
       "      <td>C85</td>\n",
       "      <td>C</td>\n",
       "    </tr>\n",
       "    <tr>\n",
       "      <th>2</th>\n",
       "      <td>3</td>\n",
       "      <td>1</td>\n",
       "      <td>3</td>\n",
       "      <td>Heikkinen, Miss. Laina</td>\n",
       "      <td>female</td>\n",
       "      <td>26.0</td>\n",
       "      <td>0</td>\n",
       "      <td>0</td>\n",
       "      <td>STON/O2. 3101282</td>\n",
       "      <td>7.9250</td>\n",
       "      <td>NaN</td>\n",
       "      <td>S</td>\n",
       "    </tr>\n",
       "    <tr>\n",
       "      <th>3</th>\n",
       "      <td>4</td>\n",
       "      <td>1</td>\n",
       "      <td>1</td>\n",
       "      <td>Futrelle, Mrs. Jacques Heath (Lily May Peel)</td>\n",
       "      <td>female</td>\n",
       "      <td>35.0</td>\n",
       "      <td>1</td>\n",
       "      <td>0</td>\n",
       "      <td>113803</td>\n",
       "      <td>53.1000</td>\n",
       "      <td>C123</td>\n",
       "      <td>S</td>\n",
       "    </tr>\n",
       "    <tr>\n",
       "      <th>4</th>\n",
       "      <td>5</td>\n",
       "      <td>0</td>\n",
       "      <td>3</td>\n",
       "      <td>Allen, Mr. William Henry</td>\n",
       "      <td>male</td>\n",
       "      <td>35.0</td>\n",
       "      <td>0</td>\n",
       "      <td>0</td>\n",
       "      <td>373450</td>\n",
       "      <td>8.0500</td>\n",
       "      <td>NaN</td>\n",
       "      <td>S</td>\n",
       "    </tr>\n",
       "    <tr>\n",
       "      <th>...</th>\n",
       "      <td>...</td>\n",
       "      <td>...</td>\n",
       "      <td>...</td>\n",
       "      <td>...</td>\n",
       "      <td>...</td>\n",
       "      <td>...</td>\n",
       "      <td>...</td>\n",
       "      <td>...</td>\n",
       "      <td>...</td>\n",
       "      <td>...</td>\n",
       "      <td>...</td>\n",
       "      <td>...</td>\n",
       "    </tr>\n",
       "    <tr>\n",
       "      <th>886</th>\n",
       "      <td>887</td>\n",
       "      <td>0</td>\n",
       "      <td>2</td>\n",
       "      <td>Montvila, Rev. Juozas</td>\n",
       "      <td>male</td>\n",
       "      <td>27.0</td>\n",
       "      <td>0</td>\n",
       "      <td>0</td>\n",
       "      <td>211536</td>\n",
       "      <td>13.0000</td>\n",
       "      <td>NaN</td>\n",
       "      <td>S</td>\n",
       "    </tr>\n",
       "    <tr>\n",
       "      <th>887</th>\n",
       "      <td>888</td>\n",
       "      <td>1</td>\n",
       "      <td>1</td>\n",
       "      <td>Graham, Miss. Margaret Edith</td>\n",
       "      <td>female</td>\n",
       "      <td>19.0</td>\n",
       "      <td>0</td>\n",
       "      <td>0</td>\n",
       "      <td>112053</td>\n",
       "      <td>30.0000</td>\n",
       "      <td>B42</td>\n",
       "      <td>S</td>\n",
       "    </tr>\n",
       "    <tr>\n",
       "      <th>888</th>\n",
       "      <td>889</td>\n",
       "      <td>0</td>\n",
       "      <td>3</td>\n",
       "      <td>Johnston, Miss. Catherine Helen \"Carrie\"</td>\n",
       "      <td>female</td>\n",
       "      <td>NaN</td>\n",
       "      <td>1</td>\n",
       "      <td>2</td>\n",
       "      <td>W./C. 6607</td>\n",
       "      <td>23.4500</td>\n",
       "      <td>NaN</td>\n",
       "      <td>S</td>\n",
       "    </tr>\n",
       "    <tr>\n",
       "      <th>889</th>\n",
       "      <td>890</td>\n",
       "      <td>1</td>\n",
       "      <td>1</td>\n",
       "      <td>Behr, Mr. Karl Howell</td>\n",
       "      <td>male</td>\n",
       "      <td>26.0</td>\n",
       "      <td>0</td>\n",
       "      <td>0</td>\n",
       "      <td>111369</td>\n",
       "      <td>30.0000</td>\n",
       "      <td>C148</td>\n",
       "      <td>C</td>\n",
       "    </tr>\n",
       "    <tr>\n",
       "      <th>890</th>\n",
       "      <td>891</td>\n",
       "      <td>0</td>\n",
       "      <td>3</td>\n",
       "      <td>Dooley, Mr. Patrick</td>\n",
       "      <td>male</td>\n",
       "      <td>32.0</td>\n",
       "      <td>0</td>\n",
       "      <td>0</td>\n",
       "      <td>370376</td>\n",
       "      <td>7.7500</td>\n",
       "      <td>NaN</td>\n",
       "      <td>Q</td>\n",
       "    </tr>\n",
       "  </tbody>\n",
       "</table>\n",
       "<p>891 rows × 12 columns</p>\n",
       "</div>"
      ],
      "text/plain": [
       "     PassengerId  Survived  Pclass  \\\n",
       "0              1         0       3   \n",
       "1              2         1       1   \n",
       "2              3         1       3   \n",
       "3              4         1       1   \n",
       "4              5         0       3   \n",
       "..           ...       ...     ...   \n",
       "886          887         0       2   \n",
       "887          888         1       1   \n",
       "888          889         0       3   \n",
       "889          890         1       1   \n",
       "890          891         0       3   \n",
       "\n",
       "                                                  Name     Sex   Age  SibSp  \\\n",
       "0                              Braund, Mr. Owen Harris    male  22.0      1   \n",
       "1    Cumings, Mrs. John Bradley (Florence Briggs Th...  female  38.0      1   \n",
       "2                               Heikkinen, Miss. Laina  female  26.0      0   \n",
       "3         Futrelle, Mrs. Jacques Heath (Lily May Peel)  female  35.0      1   \n",
       "4                             Allen, Mr. William Henry    male  35.0      0   \n",
       "..                                                 ...     ...   ...    ...   \n",
       "886                              Montvila, Rev. Juozas    male  27.0      0   \n",
       "887                       Graham, Miss. Margaret Edith  female  19.0      0   \n",
       "888           Johnston, Miss. Catherine Helen \"Carrie\"  female   NaN      1   \n",
       "889                              Behr, Mr. Karl Howell    male  26.0      0   \n",
       "890                                Dooley, Mr. Patrick    male  32.0      0   \n",
       "\n",
       "     Parch            Ticket     Fare Cabin Embarked  \n",
       "0        0         A/5 21171   7.2500   NaN        S  \n",
       "1        0          PC 17599  71.2833   C85        C  \n",
       "2        0  STON/O2. 3101282   7.9250   NaN        S  \n",
       "3        0            113803  53.1000  C123        S  \n",
       "4        0            373450   8.0500   NaN        S  \n",
       "..     ...               ...      ...   ...      ...  \n",
       "886      0            211536  13.0000   NaN        S  \n",
       "887      0            112053  30.0000   B42        S  \n",
       "888      2        W./C. 6607  23.4500   NaN        S  \n",
       "889      0            111369  30.0000  C148        C  \n",
       "890      0            370376   7.7500   NaN        Q  \n",
       "\n",
       "[891 rows x 12 columns]"
      ]
     },
     "execution_count": 53,
     "metadata": {},
     "output_type": "execute_result"
    }
   ],
   "source": [
    "df = pd.read_csv(\"train.csv\")\n",
    "df"
   ]
  },
  {
   "cell_type": "raw",
   "id": "9ef5bba8-c4fc-4eac-878d-5134976672c8",
   "metadata": {},
   "source": [
    "Посчитать процент детей (младше 18 лет), соотношение мужчин/женщин на борту"
   ]
  },
  {
   "cell_type": "code",
   "execution_count": 54,
   "id": "052a9cfe-18a1-4754-a2cf-14560b492b00",
   "metadata": {},
   "outputs": [
    {
     "name": "stdout",
     "output_type": "stream",
     "text": [
      "891\n",
      "Процент детей: 12.682379349046016\n"
     ]
    }
   ],
   "source": [
    "total = df.shape[0]\n",
    "print(total)\n",
    "kids_amount = df[df.Age < 18].shape[0]\n",
    "percentage_kids = (kids_amount / total) * 100\n",
    "print(f\"Процент детей: {percentage_kids}\")"
   ]
  },
  {
   "cell_type": "code",
   "execution_count": 5,
   "id": "ace150e4-52e6-4136-9cec-0ab5f88d5c66",
   "metadata": {},
   "outputs": [
    {
     "name": "stdout",
     "output_type": "stream",
     "text": [
      "Количество мужчин: 577, количество женщин: 314\n"
     ]
    }
   ],
   "source": [
    "men_amount = df[df.Sex == 'male'].shape[0]\n",
    "women_amount = df[df.Sex == 'female'].shape[0]\n",
    "print(f\"Количество мужчин: {men_amount}, количество женщин: {women_amount}\")"
   ]
  },
  {
   "cell_type": "markdown",
   "id": "917d8c5f-6916-47b7-9592-b445d3f48611",
   "metadata": {},
   "source": [
    "Посчитать, по скольким людям нет информации (пола или возраста)"
   ]
  },
  {
   "cell_type": "code",
   "execution_count": 6,
   "id": "3911c2bf-beed-4c10-8afd-eb2696d4c147",
   "metadata": {},
   "outputs": [
    {
     "data": {
      "text/plain": [
       "177"
      ]
     },
     "execution_count": 6,
     "metadata": {},
     "output_type": "execute_result"
    }
   ],
   "source": [
    "none_info = df[df['Age'].isna() | df['Sex'].isna()].shape[0]\n",
    "none_info"
   ]
  },
  {
   "cell_type": "markdown",
   "id": "801ea215-f267-48f2-bd71-e2f81a69a74e",
   "metadata": {},
   "source": [
    "Вывести гистограмму по возрасту:"
   ]
  },
  {
   "cell_type": "code",
   "execution_count": 7,
   "id": "202b2c29-00c0-4bb1-a6d4-0edf18b3ba1a",
   "metadata": {},
   "outputs": [
    {
     "data": {
      "image/png": "[encoded data removed]",
      "text/plain": [
       "<Figure size 640x480 with 1 Axes>"
      ]
     },
     "metadata": {},
     "output_type": "display_data"
    }
   ],
   "source": [
    "df['Age'].hist(bins=20, edgecolor='black')\n",
    "plt.xlabel('Возраст')\n",
    "plt.ylabel('Количество')\n",
    "plt.title('Гистограмма по возрасту')\n",
    "plt.show()"
   ]
  },
  {
   "cell_type": "markdown",
   "id": "7424308c-9c73-4f4d-a163-077cd1f915ee",
   "metadata": {},
   "source": [
    "УРОВЕНЬ 2\n",
    "Посчитать, какой процент мужчин и женщин выжили, какой процент детей выжили."
   ]
  },
  {
   "cell_type": "code",
   "execution_count": 12,
   "id": "32a4dd8f-bbe7-4915-9a7d-fa73623de70d",
   "metadata": {},
   "outputs": [
    {
     "name": "stdout",
     "output_type": "stream",
     "text": [
      "Выжило 18.890814558058924 мужчин, 74.20382165605095 женщин, 53.98230088495575 детей\n"
     ]
    }
   ],
   "source": [
    "survived_men = df[(df['Sex'] == 'male') & (df['Survived'] == 1)].shape[0]\n",
    "survived_women = df[(df['Sex'] == 'female') & (df['Survived'] == 1)].shape[0]\n",
    "survived_kids = df[(df['Age'] < 18) & (df['Survived'] == 1)].shape[0]\n",
    "survived_men_percent = (survived_men / men_amount) * 100\n",
    "survived_women_percent = (survived_women / women_amount) * 100\n",
    "survived_kids_percent = (survived_kids / kids_amount) * 100\n",
    "\n",
    "print(f\"Выжило {survived_men_percent} мужчин, {survived_women_percent} женщин, {survived_kids_percent} детей\")"
   ]
  },
  {
   "cell_type": "code",
   "execution_count": 34,
   "id": "9ec5f7ba-bbfc-4f48-b759-e1d621a843b2",
   "metadata": {},
   "outputs": [
    {
     "name": "stderr",
     "output_type": "stream",
     "text": [
      "D:\\Users\\aomurbaeva\\AppData\\Local\\Temp\\ipykernel_24048\\1882136347.py:2: SettingWithCopyWarning: \n",
      "A value is trying to be set on a copy of a slice from a DataFrame.\n",
      "Try using .loc[row_indexer,col_indexer] = value instead\n",
      "\n",
      "See the caveats in the documentation: https://pandas.pydata.org/pandas-docs/stable/user_guide/indexing.html#returning-a-view-versus-a-copy\n",
      "  df['Sex'] = df['Sex'].map({'male': 0, 'female': 1})\n"
     ]
    },
    {
     "data": {
      "text/html": [
       "<div>\n",
       "<style scoped>\n",
       "    .dataframe tbody tr th:only-of-type {\n",
       "        vertical-align: middle;\n",
       "    }\n",
       "\n",
       "    .dataframe tbody tr th {\n",
       "        vertical-align: top;\n",
       "    }\n",
       "\n",
       "    .dataframe thead th {\n",
       "        text-align: right;\n",
       "    }\n",
       "</style>\n",
       "<table border=\"1\" class=\"dataframe\">\n",
       "  <thead>\n",
       "    <tr style=\"text-align: right;\">\n",
       "      <th></th>\n",
       "      <th>PassengerId</th>\n",
       "      <th>Survived</th>\n",
       "      <th>Pclass</th>\n",
       "      <th>Name</th>\n",
       "      <th>Sex</th>\n",
       "      <th>Age</th>\n",
       "      <th>SibSp</th>\n",
       "      <th>Parch</th>\n",
       "      <th>Ticket</th>\n",
       "      <th>Fare</th>\n",
       "      <th>Cabin</th>\n",
       "      <th>Embarked</th>\n",
       "    </tr>\n",
       "  </thead>\n",
       "  <tbody>\n",
       "    <tr>\n",
       "      <th>0</th>\n",
       "      <td>1</td>\n",
       "      <td>0</td>\n",
       "      <td>3</td>\n",
       "      <td>Braund, Mr. Owen Harris</td>\n",
       "      <td>0</td>\n",
       "      <td>22.0</td>\n",
       "      <td>1</td>\n",
       "      <td>0</td>\n",
       "      <td>A/5 21171</td>\n",
       "      <td>7.2500</td>\n",
       "      <td>NaN</td>\n",
       "      <td>S</td>\n",
       "    </tr>\n",
       "    <tr>\n",
       "      <th>1</th>\n",
       "      <td>2</td>\n",
       "      <td>1</td>\n",
       "      <td>1</td>\n",
       "      <td>Cumings, Mrs. John Bradley (Florence Briggs Th...</td>\n",
       "      <td>1</td>\n",
       "      <td>38.0</td>\n",
       "      <td>1</td>\n",
       "      <td>0</td>\n",
       "      <td>PC 17599</td>\n",
       "      <td>71.2833</td>\n",
       "      <td>C85</td>\n",
       "      <td>C</td>\n",
       "    </tr>\n",
       "    <tr>\n",
       "      <th>2</th>\n",
       "      <td>3</td>\n",
       "      <td>1</td>\n",
       "      <td>3</td>\n",
       "      <td>Heikkinen, Miss. Laina</td>\n",
       "      <td>1</td>\n",
       "      <td>26.0</td>\n",
       "      <td>0</td>\n",
       "      <td>0</td>\n",
       "      <td>STON/O2. 3101282</td>\n",
       "      <td>7.9250</td>\n",
       "      <td>NaN</td>\n",
       "      <td>S</td>\n",
       "    </tr>\n",
       "    <tr>\n",
       "      <th>3</th>\n",
       "      <td>4</td>\n",
       "      <td>1</td>\n",
       "      <td>1</td>\n",
       "      <td>Futrelle, Mrs. Jacques Heath (Lily May Peel)</td>\n",
       "      <td>1</td>\n",
       "      <td>35.0</td>\n",
       "      <td>1</td>\n",
       "      <td>0</td>\n",
       "      <td>113803</td>\n",
       "      <td>53.1000</td>\n",
       "      <td>C123</td>\n",
       "      <td>S</td>\n",
       "    </tr>\n",
       "    <tr>\n",
       "      <th>4</th>\n",
       "      <td>5</td>\n",
       "      <td>0</td>\n",
       "      <td>3</td>\n",
       "      <td>Allen, Mr. William Henry</td>\n",
       "      <td>0</td>\n",
       "      <td>35.0</td>\n",
       "      <td>0</td>\n",
       "      <td>0</td>\n",
       "      <td>373450</td>\n",
       "      <td>8.0500</td>\n",
       "      <td>NaN</td>\n",
       "      <td>S</td>\n",
       "    </tr>\n",
       "    <tr>\n",
       "      <th>...</th>\n",
       "      <td>...</td>\n",
       "      <td>...</td>\n",
       "      <td>...</td>\n",
       "      <td>...</td>\n",
       "      <td>...</td>\n",
       "      <td>...</td>\n",
       "      <td>...</td>\n",
       "      <td>...</td>\n",
       "      <td>...</td>\n",
       "      <td>...</td>\n",
       "      <td>...</td>\n",
       "      <td>...</td>\n",
       "    </tr>\n",
       "    <tr>\n",
       "      <th>885</th>\n",
       "      <td>886</td>\n",
       "      <td>0</td>\n",
       "      <td>3</td>\n",
       "      <td>Rice, Mrs. William (Margaret Norton)</td>\n",
       "      <td>1</td>\n",
       "      <td>39.0</td>\n",
       "      <td>0</td>\n",
       "      <td>5</td>\n",
       "      <td>382652</td>\n",
       "      <td>29.1250</td>\n",
       "      <td>NaN</td>\n",
       "      <td>Q</td>\n",
       "    </tr>\n",
       "    <tr>\n",
       "      <th>886</th>\n",
       "      <td>887</td>\n",
       "      <td>0</td>\n",
       "      <td>2</td>\n",
       "      <td>Montvila, Rev. Juozas</td>\n",
       "      <td>0</td>\n",
       "      <td>27.0</td>\n",
       "      <td>0</td>\n",
       "      <td>0</td>\n",
       "      <td>211536</td>\n",
       "      <td>13.0000</td>\n",
       "      <td>NaN</td>\n",
       "      <td>S</td>\n",
       "    </tr>\n",
       "    <tr>\n",
       "      <th>887</th>\n",
       "      <td>888</td>\n",
       "      <td>1</td>\n",
       "      <td>1</td>\n",
       "      <td>Graham, Miss. Margaret Edith</td>\n",
       "      <td>1</td>\n",
       "      <td>19.0</td>\n",
       "      <td>0</td>\n",
       "      <td>0</td>\n",
       "      <td>112053</td>\n",
       "      <td>30.0000</td>\n",
       "      <td>B42</td>\n",
       "      <td>S</td>\n",
       "    </tr>\n",
       "    <tr>\n",
       "      <th>889</th>\n",
       "      <td>890</td>\n",
       "      <td>1</td>\n",
       "      <td>1</td>\n",
       "      <td>Behr, Mr. Karl Howell</td>\n",
       "      <td>0</td>\n",
       "      <td>26.0</td>\n",
       "      <td>0</td>\n",
       "      <td>0</td>\n",
       "      <td>111369</td>\n",
       "      <td>30.0000</td>\n",
       "      <td>C148</td>\n",
       "      <td>C</td>\n",
       "    </tr>\n",
       "    <tr>\n",
       "      <th>890</th>\n",
       "      <td>891</td>\n",
       "      <td>0</td>\n",
       "      <td>3</td>\n",
       "      <td>Dooley, Mr. Patrick</td>\n",
       "      <td>0</td>\n",
       "      <td>32.0</td>\n",
       "      <td>0</td>\n",
       "      <td>0</td>\n",
       "      <td>370376</td>\n",
       "      <td>7.7500</td>\n",
       "      <td>NaN</td>\n",
       "      <td>Q</td>\n",
       "    </tr>\n",
       "  </tbody>\n",
       "</table>\n",
       "<p>714 rows × 12 columns</p>\n",
       "</div>"
      ],
      "text/plain": [
       "     PassengerId  Survived  Pclass  \\\n",
       "0              1         0       3   \n",
       "1              2         1       1   \n",
       "2              3         1       3   \n",
       "3              4         1       1   \n",
       "4              5         0       3   \n",
       "..           ...       ...     ...   \n",
       "885          886         0       3   \n",
       "886          887         0       2   \n",
       "887          888         1       1   \n",
       "889          890         1       1   \n",
       "890          891         0       3   \n",
       "\n",
       "                                                  Name  Sex   Age  SibSp  \\\n",
       "0                              Braund, Mr. Owen Harris    0  22.0      1   \n",
       "1    Cumings, Mrs. John Bradley (Florence Briggs Th...    1  38.0      1   \n",
       "2                               Heikkinen, Miss. Laina    1  26.0      0   \n",
       "3         Futrelle, Mrs. Jacques Heath (Lily May Peel)    1  35.0      1   \n",
       "4                             Allen, Mr. William Henry    0  35.0      0   \n",
       "..                                                 ...  ...   ...    ...   \n",
       "885               Rice, Mrs. William (Margaret Norton)    1  39.0      0   \n",
       "886                              Montvila, Rev. Juozas    0  27.0      0   \n",
       "887                       Graham, Miss. Margaret Edith    1  19.0      0   \n",
       "889                              Behr, Mr. Karl Howell    0  26.0      0   \n",
       "890                                Dooley, Mr. Patrick    0  32.0      0   \n",
       "\n",
       "     Parch            Ticket     Fare Cabin Embarked  \n",
       "0        0         A/5 21171   7.2500   NaN        S  \n",
       "1        0          PC 17599  71.2833   C85        C  \n",
       "2        0  STON/O2. 3101282   7.9250   NaN        S  \n",
       "3        0            113803  53.1000  C123        S  \n",
       "4        0            373450   8.0500   NaN        S  \n",
       "..     ...               ...      ...   ...      ...  \n",
       "885      5            382652  29.1250   NaN        Q  \n",
       "886      0            211536  13.0000   NaN        S  \n",
       "887      0            112053  30.0000   B42        S  \n",
       "889      0            111369  30.0000  C148        C  \n",
       "890      0            370376   7.7500   NaN        Q  \n",
       "\n",
       "[714 rows x 12 columns]"
      ]
     },
     "execution_count": 34,
     "metadata": {},
     "output_type": "execute_result"
    }
   ],
   "source": [
    "df = df.dropna(subset=[\"Sex\", \"Age\", \"Pclass\"])\n",
    "df['Sex'] = df['Sex'].map({'male': 0, 'female': 1})\n",
    "df"
   ]
  },
  {
   "cell_type": "markdown",
   "id": "ce4818ed-40bc-4292-b6ad-70d6297f70d8",
   "metadata": {},
   "source": [
    "Считаем сколько людей выжило из 1, 2 и 3 класса:"
   ]
  },
  {
   "cell_type": "code",
   "execution_count": 23,
   "id": "ac60d62d-f882-4e99-80aa-c547fdc5061f",
   "metadata": {},
   "outputs": [
    {
     "name": "stdout",
     "output_type": "stream",
     "text": [
      "Выжило в первом классе: 122 из 186, втором классе: 83 из 173, третьем классе: 85 из 355\n"
     ]
    }
   ],
   "source": [
    "first_class = df[(df['Pclass'] == 1) & (df['Survived'] == 1)].shape[0]\n",
    "first_class_total = df[(df['Pclass'] == 1)].shape[0]\n",
    "\n",
    "second_class = df[(df['Pclass'] == 2) & (df['Survived'] == 1)].shape[0]\n",
    "second_class_total = df[(df['Pclass'] == 2)].shape[0]\n",
    "\n",
    "third_class = df[(df['Pclass'] == 3) & (df['Survived'] == 1)].shape[0]\n",
    "third_class_total = df[(df['Pclass'] == 3)].shape[0]\n",
    "\n",
    "print(f\"Выжило в первом классе: {first_class} из {first_class_total}, втором классе: {second_class} из {second_class_total}, третьем классе: {third_class} из {third_class_total}\")"
   ]
  },
  {
   "cell_type": "code",
   "execution_count": 40,
   "id": "ace0fafd-eedc-4489-ad65-eb968f2a917b",
   "metadata": {},
   "outputs": [
    {
     "name": "stdout",
     "output_type": "stream",
     "text": [
      "В первом классе выжило 40 мужчин из 101\n"
     ]
    }
   ],
   "source": [
    "#Проверяю сколько в 1 классе выжило мужчин. Исходя из результата видно что женщины и дети в 1 классе выжили почти все\n",
    "first_class_men_survived = df[(df['Pclass'] == 1) & (df['Survived'] == 1) & (df['Sex'] == 0)].shape[0]\n",
    "first_class_men = df[(df['Pclass'] == 1) & (df['Sex'] == 0)].shape[0]\n",
    "print(f\"В первом классе выжило {first_class_men_survived} мужчин из {first_class_men}\")\n"
   ]
  },
  {
   "cell_type": "markdown",
   "id": "52dba803-2a5f-46e4-ae9b-bb762b111099",
   "metadata": {},
   "source": [
    "Сделаем вывод по 1 классу. Думаю нет смысла смотреть дальше. Тк всего человек было 186, из них 101 - мужчины. 85 - женщины и дети. 122 - 40 = 82, итого почти все выжили. Для мужчин выжить шанс примерно 40%"
   ]
  },
  {
   "cell_type": "code",
   "execution_count": 41,
   "id": "b4f6b069-8f87-4ec5-a744-665ecbf8d8a1",
   "metadata": {},
   "outputs": [
    {
     "name": "stdout",
     "output_type": "stream",
     "text": [
      "Во втором классе выжило 15 мужчин из 99\n",
      "Во втором классе выжило 68 женщин из 74\n",
      "Во втором классе выжило 21 детей из 23\n"
     ]
    }
   ],
   "source": [
    "#Проверяю сколько в 2 классе выжило мужчин\n",
    "second_class_men_survived = df[(df['Pclass'] == 2) & (df['Survived'] == 1) & (df['Sex'] == 0)].shape[0]\n",
    "second_class_men = df[(df['Pclass'] == 2) & (df['Sex'] == 0)].shape[0]\n",
    "print(f\"Во втором классе выжило {second_class_men_survived} мужчин из {second_class_men}\")\n",
    "\n",
    "#Проверяю сколько в 2 классе выжило женщин.\n",
    "second_class_women_survived = df[(df['Pclass'] == 2) & (df['Survived'] == 1) & (df['Sex'] == 1)].shape[0]\n",
    "second_class_women = df[(df['Pclass'] == 2) & (df['Sex'] == 1)].shape[0]\n",
    "print(f\"Во втором классе выжило {second_class_women_survived} женщин из {second_class_women}\")\n",
    "\n",
    "#Проверяю сколько в 2 классе выжило детей.\n",
    "second_class_kids_survived = df[(df['Pclass'] == 2) & (df['Survived'] == 1) & (df['Age'] < 18)].shape[0]\n",
    "second_class_kids = df[(df['Pclass'] == 2) & (df['Age'] < 18)].shape[0]\n",
    "print(f\"Во втором классе выжило {second_class_kids_survived} детей из {second_class_kids}\")"
   ]
  },
  {
   "cell_type": "markdown",
   "id": "5059eed2-021a-4c86-910c-e6519d63b4c7",
   "metadata": {},
   "source": [
    "Вывод такой же. Во 2 классе выжили женщины и дети"
   ]
  },
  {
   "cell_type": "code",
   "execution_count": 42,
   "id": "bb8c12a4-4a36-4680-93a0-46a24056d08f",
   "metadata": {},
   "outputs": [
    {
     "name": "stdout",
     "output_type": "stream",
     "text": [
      "В третьем классе выжило 38 мужчин из 253\n",
      "В третьем классе выжило 47 женщин из 102\n",
      "В третьем классе выжило 29 детей из 78\n"
     ]
    }
   ],
   "source": [
    "#Проверяю сколько в 3 классе выжило мужчин\n",
    "third_class_men_survived = df[(df['Pclass'] == 3) & (df['Survived'] == 1) & (df['Sex'] == 0)].shape[0]\n",
    "third_class_men = df[(df['Pclass'] == 3) & (df['Sex'] == 0)].shape[0]\n",
    "print(f\"В третьем классе выжило {third_class_men_survived} мужчин из {third_class_men}\")\n",
    "\n",
    "#Проверяю сколько в 3 классе выжило женщин.\n",
    "third_class_women_survived = df[(df['Pclass'] == 3) & (df['Survived'] == 1) & (df['Sex'] == 1)].shape[0]\n",
    "third_class_women = df[(df['Pclass'] == 3) & (df['Sex'] == 1)].shape[0]\n",
    "print(f\"В третьем классе выжило {third_class_women_survived} женщин из {third_class_women}\")\n",
    "\n",
    "#Проверяю сколько в 3 классе выжило детей.\n",
    "third_class_kids_survived = df[(df['Pclass'] == 3) & (df['Survived'] == 1) & (df['Age'] < 18)].shape[0]\n",
    "third_class_kids = df[(df['Pclass'] == 3) & (df['Age'] < 18)].shape[0]\n",
    "print(f\"В третьем классе выжило {third_class_kids_survived} детей из {third_class_kids}\")"
   ]
  },
  {
   "cell_type": "markdown",
   "id": "4b7ce184-ded4-406d-b2a8-d5ce19b103f6",
   "metadata": {},
   "source": [
    "В третьем классе мало кто выжил в целом. (15% мужчин, 46% женщин, 37% детей)"
   ]
  },
  {
   "cell_type": "markdown",
   "id": "7f648079-22ab-4101-8e77-3dbdb8691c59",
   "metadata": {},
   "source": [
    "УРОВЕНЬ 3\n",
    "Сделав вывод по данным, написать простейшую модель, которая будет определять по входным данным, выжил ли человек. Проверить свою гипотезу на данных train.csv, оценить успешность модели. Прогнать модель на файле test.csv"
   ]
  },
  {
   "cell_type": "code",
   "execution_count": 16,
   "id": "f882b62f-1a51-4fed-b05c-6c324cf1923f",
   "metadata": {},
   "outputs": [
    {
     "name": "stdout",
     "output_type": "stream",
     "text": [
      "     Sex   Age  Pclass\n",
      "721    0  17.0       3\n",
      "607    0  27.0       1\n",
      "357    1  38.0       2\n",
      "191    0  19.0       2\n",
      "555    0  62.0       1\n",
      "..   ...   ...     ...\n",
      "3      1  35.0       1\n",
      "265    0  36.0       2\n",
      "801    1  31.0       2\n",
      "577    1  39.0       1\n",
      "343    0  25.0       2\n",
      "\n",
      "[143 rows x 3 columns]\n",
      "[0 1 1 0 0 0 0 0 0 0 0 0 0 0 0 0 1 1 0 0 0 1 0 0 0 1 0 0 1 0 0 0 0 0 1 1 0\n",
      " 0 0 1 0 1 0 0 1 0 0 0 0 0 0 0 1 1 0 1 1 0 0 1 1 0 0 0 0 0 0 0 0 0 1 0 1 1\n",
      " 1 0 1 0 0 0 0 1 0 1 0 1 1 0 0 0 1 1 1 1 1 0 0 0 0 0 0 0 0 0 1 1 1 1 1 1 1\n",
      " 1 0 0 0 1 0 0 0 0 0 1 1 1 0 1 1 0 0 1 1 0 0 1 0 0 0 0 1 0 1 1 0]\n",
      "Точность модели: 0.83\n"
     ]
    }
   ],
   "source": [
    "X = df[['Sex', 'Age', 'Pclass']]\n",
    "y = df['Survived']\n",
    "\n",
    "X_train, X_test, y_train, y_test = train_test_split(X, y, test_size=0.2, random_state=100)\n",
    "\n",
    "model = LogisticRegression()\n",
    "model.fit(X_train, y_train)\n",
    "y_pred=model.predict(X_test)\n",
    "print (X_test)\n",
    "print (y_pred)\n",
    "accuracy = accuracy_score(y_test, y_pred)\n",
    "print(f'Точность модели: {accuracy:.2f}')"
   ]
  },
  {
   "cell_type": "code",
   "execution_count": 75,
   "id": "32bd270b-403e-44e3-9189-49f829a9b44f",
   "metadata": {},
   "outputs": [
    {
     "name": "stdout",
     "output_type": "stream",
     "text": [
      "1\n",
      "Пол: 1, возраст: 29.69911764705882, Класс: 3\n",
      "Предсказание: Выживет\n"
     ]
    }
   ],
   "source": [
    "def survival_prediction(sex, age, pclass): #Пол мужской - 0, женский - 1\n",
    "    gender = [0, 1]\n",
    "    if sex == None:\n",
    "        sex = np.random.choice(gender, p=[0.65, 0.35]) #64.7 - процент мужчин от всех пассажиров. Если использовать iloc, то всега выводит male\n",
    "        print(sex)\n",
    "    if age is None:\n",
    "        age = df['Age'].mean()  #Заменяю на средний возраст\n",
    "    if pclass is None:\n",
    "        pclass = df['Pclass'].mode().iloc[0] #Заменяю на самыый часто встречающийся класс\n",
    "        \n",
    "    new_data = pd.DataFrame({'Sex': [sex], 'Age': [age], 'Pclass': [pclass]}) \n",
    "    print(f\"Пол: {sex}, возраст: {age}, Класс: {pclass}\")\n",
    "    prediction = model.predict(new_data)\n",
    "    \n",
    "    if prediction[0] == 1:\n",
    "        print(\"Предсказание: Выживет\")\n",
    "    else:\n",
    "        print(\"Предсказание: Не выживет\")\n",
    "survival_prediction(None, None, None)"
   ]
  },
  {
   "cell_type": "code",
   "execution_count": 18,
   "id": "3649bb54-60e9-4c29-98fe-43f15c00d11a",
   "metadata": {},
   "outputs": [
    {
     "name": "stdout",
     "output_type": "stream",
     "text": [
      "Предсказанные результаты:\n",
      "[0 0 0 0 1 0 1 0 1 0 0 1 0 1 1 0 0 1 0 0 0 1 1 0 1 0 0 0 0 0 1 0 1 0 0 0 1\n",
      " 1 0 0 1 0 1 0 1 1 0 0 0 1 0 0 0 1 1 1 0 1 1 1 0 1 1 1 1 1 0 1 0 0 0 1 1 0\n",
      " 1 1 1 0 1 0 1 0 1 0 0 1 0 0 0 0 1 1 1 0 1 1 1 1 1 0 1 0 0 0 0 0 0 0 0 0 1\n",
      " 0 1 1 0 0 0 0 0 0 1 0 0 0 0 1 1 0 1 0 1 0 1 0 0 1 0 0 0 1 1 0 1 1 0 1 1 1\n",
      " 0 1 0 0 0 0 0 0 0 1 1 0 0 0 1 0 0 0 1 0 0 0 1 0 0 0 1 1 0 1 0 1 0 0 0 0 1\n",
      " 0 0 0 0 0 1 1 1 1 0 0 1 0 1 1 0 1 0 0 0 1 0 0 0 1 1 0 0 0 1 1 0 0 0 0 1 0\n",
      " 1 1 0 1 1 0 0 0 1 1 0 0 0 0 1 1 0 0 0 0 0 0 1 1 0 0 0 0 0 0 0 1 1 0 1 0 0\n",
      " 0 1 0 1 0 1 0 0 0 0 0 1 1 0 0 0 1 1 0 0 0 1 0 1 1 0 1 1 0 1 1 1 0 0 1 0 0\n",
      " 1 1 1 0 0 0 0 1 1 0 0 0 0 1 1 0 0 0 1 0 1 0 0 1 0 1 1 0 0 0 0 1 1 1 1 0]\n",
      "Точность модели: 0.83\n"
     ]
    }
   ],
   "source": [
    "new_data = pd.read_csv('test.csv')\n",
    "new_data = new_data.dropna(subset=[\"Sex\", \"Age\", \"Pclass\"])\n",
    "new_data['Sex'] = new_data['Sex'].map({'male': 0, 'female': 1})\n",
    "predictions = model.predict(new_data[['Sex', 'Age', 'Pclass']])\n",
    "\n",
    "print(\"Предсказанные результаты:\")\n",
    "print(predictions)\n",
    "print(f'Точность модели: {accuracy:.2f}')"
   ]
  },
  {
   "cell_type": "code",
   "execution_count": 76,
   "id": "62fffeb5-b38f-4a13-af7d-762754c9ae76",
   "metadata": {},
   "outputs": [
    {
     "name": "stdout",
     "output_type": "stream",
     "text": [
      "Выживет\n"
     ]
    }
   ],
   "source": [
    "def is_survived(age, sex, pclass):\n",
    "    gender = [0, 1]\n",
    "    if sex == None:\n",
    "        sex = np.random.choice(gender, p=[0.65, 0.35]) #64.7 - процент мужчин от всех пассажиров\n",
    "    if age is None:\n",
    "        age = df['Age'].mean()  #Заменяю на средний возраст\n",
    "    if pclass is None:\n",
    "        pclass = df['Pclass'].mode().iloc[0] #Заменяю на самыый часто встречающийся класс\n",
    "        \n",
    "    choices = [\"Выживет\", \"Не выживет\"]\n",
    "    if (sex == 1 or age < 18)  and (pclass == 1 or pclass == 2):\n",
    "        return \"Выживет\"\n",
    "    elif (sex == 0 and pclass == 1) or (sex == 1 and pclass == 3) or (Age < 18 and pclass == 3):\n",
    "        return np.random.choice(choices, p=[0.4, 0.6]) # Потому что от 37 до 46% выжили в этих случаях\n",
    "    else:\n",
    "        return \"Не выживет\"\n",
    "        \n",
    "print(is_survived(20, None, 1))"
   ]
  },
  {
   "cell_type": "code",
   "execution_count": null,
   "id": "cf01710a-b4e8-49d5-91f5-70e99c1b58e5",
   "metadata": {},
   "outputs": [],
   "source": []
  }
 ],
 "metadata": {
  "kernelspec": {
   "display_name": "Python 3 (ipykernel)",
   "language": "python",
   "name": "python3"
  },
  "language_info": {
   "codemirror_mode": {
    "name": "ipython",
    "version": 3
   },
   "file_extension": ".py",
   "mimetype": "text/x-python",
   "name": "python",
   "nbconvert_exporter": "python",
   "pygments_lexer": "ipython3",
   "version": "3.9.18"
  }
 },
 "nbformat": 4,
 "nbformat_minor": 5
}
