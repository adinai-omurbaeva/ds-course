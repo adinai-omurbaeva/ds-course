{
 "cells": [
  {
   "cell_type": "markdown",
   "id": "0a8545e2-b330-4e3a-aa30-7eee02f2842a",
   "metadata": {},
   "source": [
    "Мы отобрали 1000 человек, которые заявляют, что они экстрасенсы. Мы хотим проверить это. Для этого проводится следующий эксперимент. Перед каждым участником выкладывают 10 карт рубашкой вверх и просят угадать цвет карты (красный или черный). На уровне значимости 0.01 мы хотим быть уверены, является ли человек экстрасенсом.\n",
    "\r\n",
    "\r\n",
    "Нужно смоделировать ситуацию двумя способами (предполагаем, что экстрасенсов не существует и решения участников представляют собой биномиальное распределен:\r\n",
    "\r\n",
    "\r\n",
    "\r\n",
    "Без множественной проверки гипотез, выявить количество экстрасенсов с множественной проверкой гипотез, используя поправку Бонферрони (правило FWER) Сколько экстрасенсов получилось поймать в каждом из "
   ]
  },
  {
   "cell_type": "code",
   "execution_count": 12,
   "id": "1c00539e-4146-4000-ab6f-a1b1bdb33c3e",
   "metadata": {},
   "outputs": [],
   "source": [
    "import numpy as np\n",
    "import scipy.stats as stats\n",
    "\n",
    "num_participants = 1000\n",
    "num_trials = 10\n",
    "alpha = 0.01"
   ]
  },
  {
   "cell_type": "markdown",
   "id": "d0fb66cd-a961-4a5d-bcb5-abb7b68c4844",
   "metadata": {},
   "source": [
    "Моделирование угадывания карт (биномиальное распределение)"
   ]
  },
  {
   "cell_type": "code",
   "execution_count": 14,
   "id": "6ace5ecd-3c1b-403e-b836-75b45ec91d1c",
   "metadata": {},
   "outputs": [],
   "source": [
    "np.random.seed(42)\n",
    "results = np.random.binomial(num_trials, 0.5, num_participants)"
   ]
  },
  {
   "cell_type": "code",
   "execution_count": 15,
   "id": "6ae6ac97-092b-4ad3-8464-13a6e82b45ba",
   "metadata": {},
   "outputs": [],
   "source": [
    "def check_hypothesis(result, num_trials, alpha):\n",
    "    p_value = 1 - stats.binom.cdf(result - 1, num_trials, 0.5)\n",
    "    return p_value < alpha"
   ]
  },
  {
   "cell_type": "code",
   "execution_count": 16,
   "id": "f0f72e20-0294-4239-9828-45e8d0dc9d7a",
   "metadata": {},
   "outputs": [
    {
     "name": "stdout",
     "output_type": "stream",
     "text": [
      "Количество экстрасенсов без поправки Бонферрони (биноминальное распределение): 1\n"
     ]
    }
   ],
   "source": [
    "without_correction = np.sum([check_hypothesis(r, num_trials, alpha) for r in results])\n",
    "print(f\"Количество экстрасенсов без поправки Бонферрони (биноминальное распределение): {without_correction}\")"
   ]
  },
  {
   "cell_type": "code",
   "execution_count": 17,
   "id": "7904999e-0400-4bf9-9508-91cd128fc42b",
   "metadata": {},
   "outputs": [
    {
     "name": "stdout",
     "output_type": "stream",
     "text": [
      "Количество экстрасенсов с поправкой Бонферрони: 0\n"
     ]
    }
   ],
   "source": [
    "alpha_bonferroni = alpha / num_participants\n",
    "with_correction = np.sum([check_hypothesis(r, num_trials, alpha_bonferroni) for r in results])\n",
    "print(f\"Количество экстрасенсов с поправкой Бонферрони: {with_correction}\")"
   ]
  },
  {
   "cell_type": "code",
   "execution_count": null,
   "id": "6591bd08-188c-483e-a5a6-6f286dc231d8",
   "metadata": {},
   "outputs": [],
   "source": []
  }
 ],
 "metadata": {
  "kernelspec": {
   "display_name": "Python 3 (ipykernel)",
   "language": "python",
   "name": "python3"
  },
  "language_info": {
   "codemirror_mode": {
    "name": "ipython",
    "version": 3
   },
   "file_extension": ".py",
   "mimetype": "text/x-python",
   "name": "python",
   "nbconvert_exporter": "python",
   "pygments_lexer": "ipython3",
   "version": "3.9.18"
  }
 },
 "nbformat": 4,
 "nbformat_minor": 5
}
