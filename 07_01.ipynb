{
 "cells": [
  {
   "cell_type": "markdown",
   "id": "03286e62-7f40-49aa-a55e-6f5ce651612f",
   "metadata": {},
   "source": [
    "1. Найти производную функции f(x)в точке:\n"
   ]
  },
  {
   "cell_type": "code",
   "execution_count": 10,
   "id": "140542c6-305e-4894-bd28-b8b5c08e39ed",
   "metadata": {},
   "outputs": [
    {
     "data": {
      "text/latex": [
       "$\\displaystyle - \\frac{\\cos{\\left(\\frac{1}{x} \\right)}}{x^{2}}$"
      ],
      "text/plain": [
       "-cos(1/x)/x**2"
      ]
     },
     "execution_count": 10,
     "metadata": {},
     "output_type": "execute_result"
    }
   ],
   "source": [
    "import numpy as np\n",
    "from math import cos, exp\n",
    "from sympy import diff, sin, E, symbols\n",
    "\n",
    "x = symbols('x')\n",
    "diff1 = diff(sin(1/x))\n",
    "diff1"
   ]
  },
  {
   "cell_type": "code",
   "execution_count": 11,
   "id": "105992c7-7ce8-4696-802d-6a4d1429b17f",
   "metadata": {},
   "outputs": [
    {
     "data": {
      "text/plain": [
       "-0.039202663113649665"
      ]
     },
     "execution_count": 11,
     "metadata": {},
     "output_type": "execute_result"
    }
   ],
   "source": [
    "def diff_at_point(x):\n",
    "    return - 1 /(x*x) * cos(1/x)\n",
    "\n",
    "diff_at_point(5)"
   ]
  },
  {
   "cell_type": "code",
   "execution_count": 12,
   "id": "8e42a450-e272-457c-bd9d-b26f740dfa93",
   "metadata": {},
   "outputs": [
    {
     "data": {
      "text/latex": [
       "$\\displaystyle - \\frac{e^{- \\frac{x}{2}}}{2}$"
      ],
      "text/plain": [
       "-exp(-x/2)/2"
      ]
     },
     "execution_count": 12,
     "metadata": {},
     "output_type": "execute_result"
    }
   ],
   "source": [
    "diff2 = diff(E**(-x/2))\n",
    "diff2"
   ]
  },
  {
   "cell_type": "code",
   "execution_count": 13,
   "id": "d0b720e5-b112-48cd-999f-a2be9e5fd659",
   "metadata": {},
   "outputs": [
    {
     "data": {
      "text/plain": [
       "-0.18393972058572117"
      ]
     },
     "execution_count": 13,
     "metadata": {},
     "output_type": "execute_result"
    }
   ],
   "source": [
    "def diff_at_point(x):\n",
    "    return - 0.5 * exp(-x/2)\n",
    "\n",
    "diff_at_point(2)"
   ]
  },
  {
   "cell_type": "markdown",
   "id": "ee2f924a-4849-4ca1-ac3a-1285653db456",
   "metadata": {},
   "source": [
    "2. Найти ∇f в точке :"
   ]
  },
  {
   "cell_type": "code",
   "execution_count": 14,
   "id": "81718e1a-6af3-4ee1-a6b8-f4a008bdc25a",
   "metadata": {},
   "outputs": [
    {
     "data": {
      "text/latex": [
       "$\\displaystyle 2 x + 2 y$"
      ],
      "text/plain": [
       "2*x + 2*y"
      ]
     },
     "execution_count": 14,
     "metadata": {},
     "output_type": "execute_result"
    }
   ],
   "source": [
    "x, y = symbols('x y')\n",
    "f = (x+y)**(2)-3*y+5\n",
    "delta_x = diff(f, x)\n",
    "delta_x"
   ]
  },
  {
   "cell_type": "code",
   "execution_count": 15,
   "id": "bdc87c24-60cc-4c36-a429-b6a2b3600c65",
   "metadata": {},
   "outputs": [
    {
     "data": {
      "text/latex": [
       "$\\displaystyle 2 x + 2 y - 3$"
      ],
      "text/plain": [
       "2*x + 2*y - 3"
      ]
     },
     "execution_count": 15,
     "metadata": {},
     "output_type": "execute_result"
    }
   ],
   "source": [
    "delta_y = diff(f, y)\n",
    "delta_y"
   ]
  },
  {
   "cell_type": "code",
   "execution_count": 16,
   "id": "a770fa46-5d0c-4a0d-8f64-561f8f18dc24",
   "metadata": {},
   "outputs": [
    {
     "data": {
      "text/plain": [
       "(24, 21)"
      ]
     },
     "execution_count": 16,
     "metadata": {},
     "output_type": "execute_result"
    }
   ],
   "source": [
    "def f(x, y):\n",
    "    return x * x + y * y - 2 * x + 3 * y - 25\n",
    "\n",
    "def grad(x, y):\n",
    "    grad_x = 2 * x + 2 * y\n",
    "    grad_y = 2 * x + 2 * y - 3\n",
    "    return grad_x, grad_y\n",
    "grad(2, 10)"
   ]
  },
  {
   "cell_type": "code",
   "execution_count": 17,
   "id": "67a1e8fe-cc94-4894-81e8-c4d9afb85252",
   "metadata": {},
   "outputs": [
    {
     "data": {
      "text/latex": [
       "$\\displaystyle 2 x + 2 y - 2 z$"
      ],
      "text/plain": [
       "2*x + 2*y - 2*z"
      ]
     },
     "execution_count": 17,
     "metadata": {},
     "output_type": "execute_result"
    }
   ],
   "source": [
    "x, y, z = symbols('x y z')\n",
    "f = (x+y-z)**(2)-3*(y+z)**(2)\n",
    " \n",
    "delta_x = diff(f, x)\n",
    "delta_x"
   ]
  },
  {
   "cell_type": "code",
   "execution_count": 18,
   "id": "a3dce859-2680-4fb7-8a3b-d045d6359bcb",
   "metadata": {},
   "outputs": [
    {
     "data": {
      "text/latex": [
       "$\\displaystyle 2 x - 4 y - 8 z$"
      ],
      "text/plain": [
       "2*x - 4*y - 8*z"
      ]
     },
     "execution_count": 18,
     "metadata": {},
     "output_type": "execute_result"
    }
   ],
   "source": [
    "delta_y = diff(f, y)\n",
    "delta_y"
   ]
  },
  {
   "cell_type": "code",
   "execution_count": 19,
   "id": "fb253de0-b3c6-46e0-bcbe-26fbe2748371",
   "metadata": {},
   "outputs": [
    {
     "data": {
      "text/latex": [
       "$\\displaystyle - 2 x - 8 y - 4 z$"
      ],
      "text/plain": [
       "-2*x - 8*y - 4*z"
      ]
     },
     "execution_count": 19,
     "metadata": {},
     "output_type": "execute_result"
    }
   ],
   "source": [
    "delta_z = diff(f, z)\n",
    "delta_z"
   ]
  },
  {
   "cell_type": "code",
   "execution_count": 20,
   "id": "131c5a14-f5d3-4c8f-a0af-02134b64f805",
   "metadata": {},
   "outputs": [
    {
     "data": {
      "text/plain": [
       "(-12, 18, 42)"
      ]
     },
     "execution_count": 20,
     "metadata": {},
     "output_type": "execute_result"
    }
   ],
   "source": [
    "def grad(x, y, z):\n",
    "    grad_x = 2*x + 2*y - 2*z\n",
    "    grad_y = 2*x - 4*y - 8*z\n",
    "    grad_z = -2*x - 8*y -4*z\n",
    "    return grad_x, grad_y, grad_z\n",
    "grad(-1, -5, 0)"
   ]
  },
  {
   "cell_type": "code",
   "execution_count": null,
   "id": "a159fa9a-060a-4a19-aa66-0bd2d8c8f521",
   "metadata": {},
   "outputs": [],
   "source": []
  }
 ],
 "metadata": {
  "kernelspec": {
   "display_name": "Python 3 (ipykernel)",
   "language": "python",
   "name": "python3"
  },
  "language_info": {
   "codemirror_mode": {
    "name": "ipython",
    "version": 3
   },
   "file_extension": ".py",
   "mimetype": "text/x-python",
   "name": "python",
   "nbconvert_exporter": "python",
   "pygments_lexer": "ipython3",
   "version": "3.9.18"
  }
 },
 "nbformat": 4,
 "nbformat_minor": 5
}
