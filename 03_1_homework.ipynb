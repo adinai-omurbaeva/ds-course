{
 "cells": [
  {
   "cell_type": "markdown",
   "id": "4a19c40e",
   "metadata": {},
   "source": [
    "1. Вклад в банке составляет х рублей. Ежегодно он увеличивается на p процентов, после чего дробная часть копеек сбрасывается. Определите через сколько лет вклад стане не менее y рублей. x,y,p - вводятся с клавиатуры"
   ]
  },
  {
   "cell_type": "code",
   "execution_count": 7,
   "id": "f36c7642",
   "metadata": {},
   "outputs": [
    {
     "name": "stdout",
     "output_type": "stream",
     "text": [
      "Вклад: 50\n",
      "Процент увеличения: 50\n",
      "Целевая сумма: 100\n",
      "25 75.0\n",
      "37 112.0\n"
     ]
    }
   ],
   "source": [
    "x = float(input(\"Вклад: \"))\n",
    "p = float(input(\"Процент увеличения: \"))\n",
    "y = float(input(\"Целевая сумма: \"))\n",
    "while x < y:\n",
    "    percentage = int(p*x/100)\n",
    "    x += percentage\n",
    "    print(percentage, x)"
   ]
  },
  {
   "cell_type": "markdown",
   "id": "0d419dce",
   "metadata": {},
   "source": [
    "2. мы знаем что for цикл с заданным числом повторений, а while - цикл с условием. Имеет место утверждение, что цикл for - частный случай цикла while. Чтобы в этом убедиться предлагается сделать следующее. Пусть n - число повторений, вводится с клавиатуры. Выведите через print строку \"for - частный случай цикла while\" n раз, используя цикл while"
   ]
  },
  {
   "cell_type": "code",
   "execution_count": 9,
   "id": "483c6568",
   "metadata": {},
   "outputs": [
    {
     "name": "stdout",
     "output_type": "stream",
     "text": [
      "Введите число: 5\n",
      "for - частный случай цикла while\n",
      "for - частный случай цикла while\n",
      "for - частный случай цикла while\n",
      "for - частный случай цикла while\n",
      "for - частный случай цикла while\n"
     ]
    }
   ],
   "source": [
    "n = int(input(\"Введите число: \"))\n",
    "i = 0\n",
    "while i < n:\n",
    "    print(\"for - частный случай цикла while\")\n",
    "    i+=1"
   ]
  },
  {
   "cell_type": "markdown",
   "id": "77195637",
   "metadata": {},
   "source": [
    "3. Целое число вводится с клавиатуры. Посчитается сумму цифр данного числа."
   ]
  },
  {
   "cell_type": "code",
   "execution_count": 15,
   "id": "ab76be47",
   "metadata": {},
   "outputs": [
    {
     "name": "stdout",
     "output_type": "stream",
     "text": [
      "Введите число: 55\n",
      "10\n"
     ]
    }
   ],
   "source": [
    "num = input('Введите число: ')\n",
    "result = 0\n",
    "for i in num:\n",
    "    result += int(i)\n",
    "print(result)"
   ]
  },
  {
   "cell_type": "code",
   "execution_count": null,
   "id": "edf9f780",
   "metadata": {},
   "outputs": [],
   "source": []
  }
 ],
 "metadata": {
  "kernelspec": {
   "display_name": "Python 3 (ipykernel)",
   "language": "python",
   "name": "python3"
  },
  "language_info": {
   "codemirror_mode": {
    "name": "ipython",
    "version": 3
   },
   "file_extension": ".py",
   "mimetype": "text/x-python",
   "name": "python",
   "nbconvert_exporter": "python",
   "pygments_lexer": "ipython3",
   "version": "3.11.5"
  }
 },
 "nbformat": 4,
 "nbformat_minor": 5
}
