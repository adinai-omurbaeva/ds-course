{
 "cells": [
  {
   "cell_type": "markdown",
   "id": "4d2618a2",
   "metadata": {},
   "source": [
    "1. Вывести в консоль (через функцию print) значение выражения:\n",
    "(5 +7 ∗ 5/8)/3**5\n",
    "в формате:\n",
    "значение выражения: 𝑣𝑎𝑙𝑢𝑒\n",
    "где 𝑣𝑎𝑙𝑢𝑒 – полученный результат."
   ]
  },
  {
   "cell_type": "code",
   "execution_count": 4,
   "id": "3c0ab9dd",
   "metadata": {},
   "outputs": [
    {
     "name": "stdout",
     "output_type": "stream",
     "text": [
      "Значение выражения: 0.038580246913580245\n"
     ]
    }
   ],
   "source": [
    "print(f\"Значение выражения: {(5 +7*5/8)/3**5}\")"
   ]
  },
  {
   "cell_type": "markdown",
   "id": "6bd19d70",
   "metadata": {},
   "source": [
    "2. Длина Московской кольцевой автомобильной дороги – 109 километров. Байкер Вася\n",
    "стартует с нулевого километра МКАД и едет со скоростью 𝑣 километров в час. На какой\n",
    "отметке он остановится через 𝑡 часов? Значения скорости и времени считаются целыми\n",
    "числами."
   ]
  },
  {
   "cell_type": "code",
   "execution_count": 13,
   "id": "4674a587",
   "metadata": {},
   "outputs": [
    {
     "name": "stdout",
     "output_type": "stream",
     "text": [
      "Введите скорость: 40\n",
      "Введите время: 2\n",
      "80\n"
     ]
    }
   ],
   "source": [
    "v = input(\"Введите скорость: \")\n",
    "t = input(\"Введите время: \")\n",
    "print(int(v) * int(t) % 109)"
   ]
  },
  {
   "cell_type": "markdown",
   "id": "24f8926b",
   "metadata": {},
   "source": [
    "3. На вход подаются 2 числа. Числа могут быть как целые, так и вещественные. Сравните их\n",
    "значения и найдите наибольшее. Помните, что результатом сравнения является True или\n",
    "False (тип bool). При этом True эквивалентно 1, а False 0 при умножении.\n"
   ]
  },
  {
   "cell_type": "code",
   "execution_count": 15,
   "id": "f01b35aa",
   "metadata": {},
   "outputs": [
    {
     "name": "stdout",
     "output_type": "stream",
     "text": [
      "Число 1: -20\n",
      "Число 2: -1\n",
      "-1\n"
     ]
    }
   ],
   "source": [
    "a = int(input(\"Число 1: \"))\n",
    "b = int(input(\"Число 2: \"))\n",
    "print(max(a, b))"
   ]
  },
  {
   "cell_type": "code",
   "execution_count": null,
   "id": "c0fa3744",
   "metadata": {},
   "outputs": [],
   "source": []
  }
 ],
 "metadata": {
  "kernelspec": {
   "display_name": "Python 3 (ipykernel)",
   "language": "python",
   "name": "python3"
  },
  "language_info": {
   "codemirror_mode": {
    "name": "ipython",
    "version": 3
   },
   "file_extension": ".py",
   "mimetype": "text/x-python",
   "name": "python",
   "nbconvert_exporter": "python",
   "pygments_lexer": "ipython3",
   "version": "3.11.5"
  }
 },
 "nbformat": 4,
 "nbformat_minor": 5
}
