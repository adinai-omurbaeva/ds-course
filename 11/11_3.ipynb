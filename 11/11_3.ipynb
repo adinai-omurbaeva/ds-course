{
 "cells": [
  {
   "cell_type": "code",
   "execution_count": 45,
   "id": "de8003ae-d3b1-435e-bf50-27e33f567468",
   "metadata": {},
   "outputs": [],
   "source": [
    "import pandas as pd\n",
    "from sklearn.model_selection import train_test_split\n",
    "from sklearn.preprocessing import StandardScaler\n",
    "from sklearn.linear_model import SGDRegressor\n",
    "from sklearn.ensemble import RandomForestRegressor\n",
    "from xgboost import XGBRegressor\n",
    "from sklearn.metrics import r2_score\n",
    "from sklearn.base import clone\n",
    "import numpy as np"
   ]
  },
  {
   "cell_type": "code",
   "execution_count": 60,
   "id": "012a04fe-a8c9-417c-a6f2-b99cc2a557e7",
   "metadata": {},
   "outputs": [
    {
     "data": {
      "text/html": [
       "<div>\n",
       "<style scoped>\n",
       "    .dataframe tbody tr th:only-of-type {\n",
       "        vertical-align: middle;\n",
       "    }\n",
       "\n",
       "    .dataframe tbody tr th {\n",
       "        vertical-align: top;\n",
       "    }\n",
       "\n",
       "    .dataframe thead th {\n",
       "        text-align: right;\n",
       "    }\n",
       "</style>\n",
       "<table border=\"1\" class=\"dataframe\">\n",
       "  <thead>\n",
       "    <tr style=\"text-align: right;\">\n",
       "      <th></th>\n",
       "      <th>year</th>\n",
       "      <th>engineSize</th>\n",
       "      <th>price</th>\n",
       "      <th>mpg</th>\n",
       "      <th>mileage</th>\n",
       "    </tr>\n",
       "  </thead>\n",
       "  <tbody>\n",
       "    <tr>\n",
       "      <th>0</th>\n",
       "      <td>2014</td>\n",
       "      <td>2.0</td>\n",
       "      <td>11200</td>\n",
       "      <td>57.6</td>\n",
       "      <td>67068</td>\n",
       "    </tr>\n",
       "    <tr>\n",
       "      <th>1</th>\n",
       "      <td>2018</td>\n",
       "      <td>2.0</td>\n",
       "      <td>27000</td>\n",
       "      <td>42.8</td>\n",
       "      <td>14827</td>\n",
       "    </tr>\n",
       "    <tr>\n",
       "      <th>2</th>\n",
       "      <td>2016</td>\n",
       "      <td>3.0</td>\n",
       "      <td>16000</td>\n",
       "      <td>51.4</td>\n",
       "      <td>62794</td>\n",
       "    </tr>\n",
       "    <tr>\n",
       "      <th>3</th>\n",
       "      <td>2017</td>\n",
       "      <td>1.5</td>\n",
       "      <td>12750</td>\n",
       "      <td>72.4</td>\n",
       "      <td>26676</td>\n",
       "    </tr>\n",
       "    <tr>\n",
       "      <th>4</th>\n",
       "      <td>2014</td>\n",
       "      <td>3.0</td>\n",
       "      <td>14500</td>\n",
       "      <td>50.4</td>\n",
       "      <td>39554</td>\n",
       "    </tr>\n",
       "    <tr>\n",
       "      <th>...</th>\n",
       "      <td>...</td>\n",
       "      <td>...</td>\n",
       "      <td>...</td>\n",
       "      <td>...</td>\n",
       "      <td>...</td>\n",
       "    </tr>\n",
       "    <tr>\n",
       "      <th>10776</th>\n",
       "      <td>2016</td>\n",
       "      <td>2.0</td>\n",
       "      <td>19000</td>\n",
       "      <td>54.3</td>\n",
       "      <td>40818</td>\n",
       "    </tr>\n",
       "    <tr>\n",
       "      <th>10777</th>\n",
       "      <td>2016</td>\n",
       "      <td>2.0</td>\n",
       "      <td>14600</td>\n",
       "      <td>60.1</td>\n",
       "      <td>42947</td>\n",
       "    </tr>\n",
       "    <tr>\n",
       "      <th>10778</th>\n",
       "      <td>2017</td>\n",
       "      <td>2.0</td>\n",
       "      <td>13100</td>\n",
       "      <td>42.8</td>\n",
       "      <td>25468</td>\n",
       "    </tr>\n",
       "    <tr>\n",
       "      <th>10779</th>\n",
       "      <td>2014</td>\n",
       "      <td>2.0</td>\n",
       "      <td>9930</td>\n",
       "      <td>64.2</td>\n",
       "      <td>45000</td>\n",
       "    </tr>\n",
       "    <tr>\n",
       "      <th>10780</th>\n",
       "      <td>2017</td>\n",
       "      <td>2.0</td>\n",
       "      <td>15981</td>\n",
       "      <td>57.6</td>\n",
       "      <td>59432</td>\n",
       "    </tr>\n",
       "  </tbody>\n",
       "</table>\n",
       "<p>10781 rows × 5 columns</p>\n",
       "</div>"
      ],
      "text/plain": [
       "       year  engineSize  price   mpg  mileage\n",
       "0      2014         2.0  11200  57.6    67068\n",
       "1      2018         2.0  27000  42.8    14827\n",
       "2      2016         3.0  16000  51.4    62794\n",
       "3      2017         1.5  12750  72.4    26676\n",
       "4      2014         3.0  14500  50.4    39554\n",
       "...     ...         ...    ...   ...      ...\n",
       "10776  2016         2.0  19000  54.3    40818\n",
       "10777  2016         2.0  14600  60.1    42947\n",
       "10778  2017         2.0  13100  42.8    25468\n",
       "10779  2014         2.0   9930  64.2    45000\n",
       "10780  2017         2.0  15981  57.6    59432\n",
       "\n",
       "[10781 rows x 5 columns]"
      ]
     },
     "execution_count": 60,
     "metadata": {},
     "output_type": "execute_result"
    }
   ],
   "source": [
    "df = pd.read_csv('bmw.csv')\n",
    "\n",
    "# Используем основные признаки, по результатам из задачи 1\n",
    "df = df.dropna(subset=['year', 'engineSize', 'price', 'mpg', 'mileage'])\n",
    "df = df[['year', 'engineSize', 'price', 'mpg', 'mileage']]\n",
    "df"
   ]
  },
  {
   "cell_type": "code",
   "execution_count": 54,
   "id": "eab0f2a7-3d83-491e-898b-1606171a722b",
   "metadata": {},
   "outputs": [
    {
     "name": "stdout",
     "output_type": "stream",
     "text": [
      "X columns: Index(['year', 'engineSize', 'mpg', 'mileage'], dtype='object')\n",
      "y head: 0    11200\n",
      "1    27000\n",
      "2    16000\n",
      "3    12750\n",
      "4    14500\n",
      "Name: price, dtype: int64\n"
     ]
    }
   ],
   "source": [
    "X = df.drop(columns=['price'])\n",
    "y = df['price']\n",
    "\n",
    "# Проверка данных после разделения\n",
    "print(\"X columns:\", X.columns)\n",
    "print(\"y head:\", y.head())"
   ]
  },
  {
   "cell_type": "code",
   "execution_count": 55,
   "id": "97d535ae-cc1e-4761-90da-934e21624a8a",
   "metadata": {},
   "outputs": [],
   "source": [
    "X_train, X_test, y_train, y_test = train_test_split(X, y, test_size=0.2, random_state=42)\n",
    "scaler = StandardScaler()\n",
    "X_train_scaled = scaler.fit_transform(X_train)\n",
    "X_test_scaled = scaler.transform(X_test)"
   ]
  },
  {
   "cell_type": "code",
   "execution_count": 56,
   "id": "2fb99f52-9106-40c3-8833-a0a9e96ac2e3",
   "metadata": {},
   "outputs": [],
   "source": [
    "base_models = [\n",
    "    SGDRegressor(alpha=1, max_iter=1000, penalty='elasticnet', random_state=42),\n",
    "    RandomForestRegressor(max_depth=None, min_samples_leaf=1, min_samples_split=5, n_estimators=200, random_state=42)\n",
    "]\n",
    "final_model = CatBoostRegressor(n_estimators=200, random_state=42, verbose=0)  "
   ]
  },
  {
   "cell_type": "code",
   "execution_count": 57,
   "id": "7ee6b2e2-122f-4966-9d33-a4d4a6c9e5da",
   "metadata": {},
   "outputs": [],
   "source": [
    "def fit_stacking(x_train, y_train, base_models, final_model):\n",
    "    base_models_ = [clone(model) for model in base_models]\n",
    "    final_model_ = clone(final_model)\n",
    "    for model in base_models_:\n",
    "        model.fit(x_train, y_train)\n",
    "    meta_features = np.column_stack([model.predict(x_train) for model in base_models_])\n",
    "    final_model_.fit(meta_features, y_train)\n",
    "    \n",
    "    return base_models_, final_model_"
   ]
  },
  {
   "cell_type": "code",
   "execution_count": 58,
   "id": "bd225d87-f4d6-441b-abef-62f3807446fe",
   "metadata": {},
   "outputs": [],
   "source": [
    "def predict_stacking(x_test, base_models, final_model):\n",
    "    meta_features = np.column_stack([model.predict(x_test) for model in base_models])\n",
    "    return final_model.predict(meta_features)"
   ]
  },
  {
   "cell_type": "code",
   "execution_count": 59,
   "id": "7d0e9e44-43c1-4f6a-bbb8-7093be52c602",
   "metadata": {},
   "outputs": [
    {
     "name": "stdout",
     "output_type": "stream",
     "text": [
      "Stacking Regressor R2 Score: 0.8896\n"
     ]
    }
   ],
   "source": [
    "# Обучение модели\n",
    "base_models_, final_model_ = fit_stacking(X_train_scaled, y_train, base_models, final_model)\n",
    "\n",
    "# Предсказание модели\n",
    "y_pred_stacking = predict_stacking(X_test_scaled, base_models_, final_model_)\n",
    "\n",
    "# Оценка качества\n",
    "stacking_r2 = r2_score(y_test, y_pred_stacking)\n",
    "print(f'Stacking Regressor R2 Score: {stacking_r2:.4f}')"
   ]
  },
  {
   "cell_type": "markdown",
   "id": "16685702-435a-4c6c-866c-b33a840b038f",
   "metadata": {},
   "source": [
    "Значение 0,8896 является хорошим для 4х выбранных признаков образования цены"
   ]
  },
  {
   "cell_type": "code",
   "execution_count": null,
   "id": "7f531968-923b-4c0e-9a5c-f761254cecc8",
   "metadata": {},
   "outputs": [],
   "source": []
  }
 ],
 "metadata": {
  "kernelspec": {
   "display_name": "Python 3 (ipykernel)",
   "language": "python",
   "name": "python3"
  },
  "language_info": {
   "codemirror_mode": {
    "name": "ipython",
    "version": 3
   },
   "file_extension": ".py",
   "mimetype": "text/x-python",
   "name": "python",
   "nbconvert_exporter": "python",
   "pygments_lexer": "ipython3",
   "version": "3.12.4"
  }
 },
 "nbformat": 4,
 "nbformat_minor": 5
}
