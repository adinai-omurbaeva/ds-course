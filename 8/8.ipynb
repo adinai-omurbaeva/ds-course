{
 "cells": [
  {
   "cell_type": "markdown",
   "id": "bee1fe69-0ac9-4f69-aa20-bda819ac1581",
   "metadata": {},
   "source": [
    "Easy\n",
    "\n",
    "Вычислить вероятность выживания, если пассажиру:\n",
    "\n",
    "от 0 до 25 лет\n",
    "от 25 до 50 лет\n",
    "от 50 лет и старше"
   ]
  },
  {
   "cell_type": "code",
   "execution_count": 10,
   "id": "6c925553-b2e4-4b56-b486-0091998881b9",
   "metadata": {},
   "outputs": [
    {
     "data": {
      "text/html": [
       "<div>\n",
       "<style scoped>\n",
       "    .dataframe tbody tr th:only-of-type {\n",
       "        vertical-align: middle;\n",
       "    }\n",
       "\n",
       "    .dataframe tbody tr th {\n",
       "        vertical-align: top;\n",
       "    }\n",
       "\n",
       "    .dataframe thead th {\n",
       "        text-align: right;\n",
       "    }\n",
       "</style>\n",
       "<table border=\"1\" class=\"dataframe\">\n",
       "  <thead>\n",
       "    <tr style=\"text-align: right;\">\n",
       "      <th></th>\n",
       "      <th>PassengerId</th>\n",
       "      <th>Survived</th>\n",
       "      <th>Pclass</th>\n",
       "      <th>Name</th>\n",
       "      <th>Sex</th>\n",
       "      <th>Age</th>\n",
       "      <th>SibSp</th>\n",
       "      <th>Parch</th>\n",
       "      <th>Ticket</th>\n",
       "      <th>Fare</th>\n",
       "      <th>Cabin</th>\n",
       "      <th>Embarked</th>\n",
       "    </tr>\n",
       "  </thead>\n",
       "  <tbody>\n",
       "    <tr>\n",
       "      <th>0</th>\n",
       "      <td>1</td>\n",
       "      <td>0</td>\n",
       "      <td>3</td>\n",
       "      <td>Braund, Mr. Owen Harris</td>\n",
       "      <td>male</td>\n",
       "      <td>22.0</td>\n",
       "      <td>1</td>\n",
       "      <td>0</td>\n",
       "      <td>A/5 21171</td>\n",
       "      <td>7.2500</td>\n",
       "      <td>NaN</td>\n",
       "      <td>S</td>\n",
       "    </tr>\n",
       "    <tr>\n",
       "      <th>1</th>\n",
       "      <td>2</td>\n",
       "      <td>1</td>\n",
       "      <td>1</td>\n",
       "      <td>Cumings, Mrs. John Bradley (Florence Briggs Th...</td>\n",
       "      <td>female</td>\n",
       "      <td>38.0</td>\n",
       "      <td>1</td>\n",
       "      <td>0</td>\n",
       "      <td>PC 17599</td>\n",
       "      <td>71.2833</td>\n",
       "      <td>C85</td>\n",
       "      <td>C</td>\n",
       "    </tr>\n",
       "    <tr>\n",
       "      <th>2</th>\n",
       "      <td>3</td>\n",
       "      <td>1</td>\n",
       "      <td>3</td>\n",
       "      <td>Heikkinen, Miss. Laina</td>\n",
       "      <td>female</td>\n",
       "      <td>26.0</td>\n",
       "      <td>0</td>\n",
       "      <td>0</td>\n",
       "      <td>STON/O2. 3101282</td>\n",
       "      <td>7.9250</td>\n",
       "      <td>NaN</td>\n",
       "      <td>S</td>\n",
       "    </tr>\n",
       "    <tr>\n",
       "      <th>3</th>\n",
       "      <td>4</td>\n",
       "      <td>1</td>\n",
       "      <td>1</td>\n",
       "      <td>Futrelle, Mrs. Jacques Heath (Lily May Peel)</td>\n",
       "      <td>female</td>\n",
       "      <td>35.0</td>\n",
       "      <td>1</td>\n",
       "      <td>0</td>\n",
       "      <td>113803</td>\n",
       "      <td>53.1000</td>\n",
       "      <td>C123</td>\n",
       "      <td>S</td>\n",
       "    </tr>\n",
       "    <tr>\n",
       "      <th>4</th>\n",
       "      <td>5</td>\n",
       "      <td>0</td>\n",
       "      <td>3</td>\n",
       "      <td>Allen, Mr. William Henry</td>\n",
       "      <td>male</td>\n",
       "      <td>35.0</td>\n",
       "      <td>0</td>\n",
       "      <td>0</td>\n",
       "      <td>373450</td>\n",
       "      <td>8.0500</td>\n",
       "      <td>NaN</td>\n",
       "      <td>S</td>\n",
       "    </tr>\n",
       "  </tbody>\n",
       "</table>\n",
       "</div>"
      ],
      "text/plain": [
       "   PassengerId  Survived  Pclass  \\\n",
       "0            1         0       3   \n",
       "1            2         1       1   \n",
       "2            3         1       3   \n",
       "3            4         1       1   \n",
       "4            5         0       3   \n",
       "\n",
       "                                                Name     Sex   Age  SibSp  \\\n",
       "0                            Braund, Mr. Owen Harris    male  22.0      1   \n",
       "1  Cumings, Mrs. John Bradley (Florence Briggs Th...  female  38.0      1   \n",
       "2                             Heikkinen, Miss. Laina  female  26.0      0   \n",
       "3       Futrelle, Mrs. Jacques Heath (Lily May Peel)  female  35.0      1   \n",
       "4                           Allen, Mr. William Henry    male  35.0      0   \n",
       "\n",
       "   Parch            Ticket     Fare Cabin Embarked  \n",
       "0      0         A/5 21171   7.2500   NaN        S  \n",
       "1      0          PC 17599  71.2833   C85        C  \n",
       "2      0  STON/O2. 3101282   7.9250   NaN        S  \n",
       "3      0            113803  53.1000  C123        S  \n",
       "4      0            373450   8.0500   NaN        S  "
      ]
     },
     "execution_count": 10,
     "metadata": {},
     "output_type": "execute_result"
    }
   ],
   "source": [
    "import pandas as pd\n",
    "\n",
    "df = pd.read_csv('train.csv')\n",
    "df.head()"
   ]
  },
  {
   "cell_type": "code",
   "execution_count": 11,
   "id": "81f24dd7-6e8b-4e11-be64-6e882f15c773",
   "metadata": {},
   "outputs": [
    {
     "name": "stdout",
     "output_type": "stream",
     "text": [
      "0-25: 0.41\n",
      "25-50: 0.41\n",
      "50+: 0.34\n"
     ]
    }
   ],
   "source": [
    "age_group_0_25 = df[(df['Age'] <= 25)]\n",
    "age_group_25_50 = df[(df['Age'] > 25) & (df['Age'] <= 50)]\n",
    "age_group_50_plus = df[(df['Age'] > 50)]\n",
    "\n",
    "# Вероятность выживания\n",
    "prob_0_25 = age_group_0_25['Survived'].mean()\n",
    "prob_25_50 = age_group_25_50['Survived'].mean()\n",
    "prob_50_plus = age_group_50_plus['Survived'].mean()\n",
    "\n",
    "# Результаты\n",
    "print(f'0-25: {prob_0_25:.2f}')\n",
    "print(f'25-50: {prob_25_50:.2f}')\n",
    "print(f'50+: {prob_50_plus:.2f}')"
   ]
  },
  {
   "cell_type": "markdown",
   "id": "067fd666-4e89-4e86-a39c-ed1d2071195e",
   "metadata": {},
   "source": [
    "Normal\n",
    "Вычислить с какой вероятностью пассажир женского пола, если известно, что он выжил (использовать теорему Байеса)"
   ]
  },
  {
   "cell_type": "code",
   "execution_count": 12,
   "id": "31bd7f5a-4faf-426d-8a04-8523201b705f",
   "metadata": {},
   "outputs": [
    {
     "name": "stdout",
     "output_type": "stream",
     "text": [
      "Вероятность выживания пассажира женского пола: 0.68\n"
     ]
    }
   ],
   "source": [
    "df = pd.read_csv('train.csv')\n",
    "\n",
    "P_female = df[df['Sex'] == 'female'].shape[0] / df.shape[0]\n",
    "P_survived = df[df['Survived'] == 1].shape[0] / df.shape[0]\n",
    "P_survived_given_female = df[(df['Sex'] == 'female') & (df['Survived'] == 1)].shape[0] / df[df['Sex'] == 'female'].shape[0]\n",
    "P_female_given_survived = (P_survived_given_female * P_female) / P_survived\n",
    "\n",
    "print(f\"Вероятность выживания пассажира женского пола: {P_female_given_survived:.2f}\")"
   ]
  },
  {
   "cell_type": "markdown",
   "id": "6b86f029-22bf-4fea-a983-fb0a7d2176dc",
   "metadata": {},
   "source": [
    "Hard\n",
    "\n",
    "Закон распределения задается функцией плотности\n",
    "\n",
    "$ f(x) = \\lambda e^{-\\lambda x}, x > 0 $\n",
    "\n",
    "$ f(x) = 0, x <= 0 $\n",
    "\n",
    "Найти вероятность того, что событие произойдет при x∈[1,2]"
   ]
  },
  {
   "cell_type": "code",
   "execution_count": 13,
   "id": "6e193387-50c2-4a94-ab00-e8e1bfbd9ba9",
   "metadata": {},
   "outputs": [
    {
     "name": "stdout",
     "output_type": "stream",
     "text": [
      "Вероятность что событие произойдет при x E[1, 2]: 0.2325\n"
     ]
    }
   ],
   "source": [
    "import numpy as np\n",
    "import scipy.integrate as integrate\n",
    "\n",
    "# Задание параметра λ\n",
    "lambda_param = 1.0\n",
    "\n",
    "# Определение функции плотности вероятности\n",
    "def pdf(x, lambda_param):\n",
    "    return lambda_param * np.exp(-lambda_param * x)\n",
    "\n",
    "# Вычисление интеграла от 1 до 2 для заданной функции плотности\n",
    "probability, error = integrate.quad(pdf, 1, 2, args=(lambda_param,))\n",
    "\n",
    "print(f\"Вероятность что событие произойдет при x E[1, 2]: {probability:.4f}\")"
   ]
  },
  {
   "cell_type": "code",
   "execution_count": null,
   "id": "79dad86d-62f8-4509-9615-701cf9313ffa",
   "metadata": {},
   "outputs": [],
   "source": []
  }
 ],
 "metadata": {
  "kernelspec": {
   "display_name": "Python 3 (ipykernel)",
   "language": "python",
   "name": "python3"
  },
  "language_info": {
   "codemirror_mode": {
    "name": "ipython",
    "version": 3
   },
   "file_extension": ".py",
   "mimetype": "text/x-python",
   "name": "python",
   "nbconvert_exporter": "python",
   "pygments_lexer": "ipython3",
   "version": "3.9.18"
  }
 },
 "nbformat": 4,
 "nbformat_minor": 5
}
