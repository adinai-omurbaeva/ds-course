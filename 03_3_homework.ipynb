{
 "cells": [
  {
   "cell_type": "markdown",
   "id": "e793e065",
   "metadata": {},
   "source": [
    "1. Напишите функцию, которая считает площадь треугольница по трем сторонам."
   ]
  },
  {
   "cell_type": "code",
   "execution_count": 5,
   "id": "56a1d694",
   "metadata": {},
   "outputs": [
    {
     "name": "stdout",
     "output_type": "stream",
     "text": [
      "6.0\n"
     ]
    }
   ],
   "source": [
    "def area(a, b, c):\n",
    "    s =(a + b + c) / 2 \n",
    "    area =(s*(s-a)*(s-b)*(s-c)) ** 0.5 \n",
    "    return area\n",
    "print(area(5, 4, 3))"
   ]
  },
  {
   "cell_type": "markdown",
   "id": "ace8cb0c",
   "metadata": {},
   "source": [
    "2. Дана строка. Напишите функцию которая возвращает все слова в строке, длина которых меньше 5"
   ]
  },
  {
   "cell_type": "code",
   "execution_count": 14,
   "id": "5bf625b9",
   "metadata": {},
   "outputs": [
    {
     "data": {
      "text/plain": [
       "'sit sed do ut et vel nunc eget sed diam At in in sed id enim at a arcu '"
      ]
     },
     "execution_count": 14,
     "metadata": {},
     "output_type": "execute_result"
    }
   ],
   "source": [
    "s = \"\"\"Lorem ipsum dolor sit amet, \n",
    "consectetur adipiscing elit, sed do eiusmod tempor \n",
    "incididunt ut labore et dolore magna aliqua. \n",
    "Pharetra vel turpis nunc eget lorem dolor sed. \n",
    "Nulla facilisi etiam dignissim diam. At in tellus \n",
    "integer feugiat scelerisque varius. Purus in mollis \n",
    "nunc sed id. Nulla aliquet enim tortor at. \n",
    "Vehicula ipsum a arcu cursus vitae.\"\"\"\n",
    "def less_than_5(s):\n",
    "    new_line = \"\"\n",
    "    for i in s.replace(\".\", \"\").split(\" \"):\n",
    "        if len(i) < 5:\n",
    "            new_line += i + \" \"\n",
    "    return new_line\n",
    "less_than_5(s)"
   ]
  },
  {
   "cell_type": "markdown",
   "id": "a0542a07",
   "metadata": {},
   "source": [
    "3. У вас есть массив чисел, напишите функцию, которая составляет из них максимальное число. Например [56, 9, 11, 2] -> 956211"
   ]
  },
  {
   "cell_type": "code",
   "execution_count": 32,
   "id": "db5d8793",
   "metadata": {},
   "outputs": [
    {
     "data": {
      "text/plain": [
       "'956211'"
      ]
     },
     "execution_count": 32,
     "metadata": {},
     "output_type": "execute_result"
    }
   ],
   "source": [
    "nums = [56, 9, 11, 2]\n",
    "\n",
    "def max_num(nums):\n",
    "    nums = list(map(str, nums))\n",
    "    n = len(nums)\n",
    "    for i in range(n):\n",
    "        for j in range(i+1, n):\n",
    "            if nums[i] + nums[j] < nums[j] + nums[i]:\n",
    "                nums[i], nums[j] = nums[j], nums[i]\n",
    "    result_str = \"\"\n",
    "    for num in nums:\n",
    "        result_str += num\n",
    "    \n",
    "    return result_str\n",
    "max_num(nums)"
   ]
  },
  {
   "cell_type": "code",
   "execution_count": null,
   "id": "9654814d",
   "metadata": {},
   "outputs": [],
   "source": []
  }
 ],
 "metadata": {
  "kernelspec": {
   "display_name": "Python 3 (ipykernel)",
   "language": "python",
   "name": "python3"
  },
  "language_info": {
   "codemirror_mode": {
    "name": "ipython",
    "version": 3
   },
   "file_extension": ".py",
   "mimetype": "text/x-python",
   "name": "python",
   "nbconvert_exporter": "python",
   "pygments_lexer": "ipython3",
   "version": "3.11.5"
  }
 },
 "nbformat": 4,
 "nbformat_minor": 5
}
