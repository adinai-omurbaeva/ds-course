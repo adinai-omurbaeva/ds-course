{
 "cells": [
  {
   "cell_type": "markdown",
   "id": "efe609c5",
   "metadata": {},
   "source": [
    "1. Даны 3 целых числа. Вывести 3 если совпадают все, 2 если 2, 0 если ни одно"
   ]
  },
  {
   "cell_type": "code",
   "execution_count": 4,
   "id": "5c0d5b04",
   "metadata": {},
   "outputs": [
    {
     "name": "stdout",
     "output_type": "stream",
     "text": [
      "Число 1: 4\n",
      "Число 2: 2\n",
      "Число 3: 0\n",
      "0\n"
     ]
    }
   ],
   "source": [
    "num_1 = int(input(\"Число 1: \"))\n",
    "num_2 = int(input(\"Число 2: \"))\n",
    "num_3 = int(input(\"Число 3: \"))\n",
    "if num_1 == num_2 and num_2 == num_3 and num_3 == num_1:\n",
    "    print(3)\n",
    "elif num_1 == num_2 or num_2 == num_3 or num_3 == num_1: \n",
    "    print(2)\n",
    "else:\n",
    "    print(0)"
   ]
  },
  {
   "cell_type": "markdown",
   "id": "53a1a361",
   "metadata": {},
   "source": [
    "2. Шахматная ладья ходит по горизонтали или вертикали. Даны две различные клетки шахматной доски, определите, может ли ладья попасть с первой клетки на вторую одним ходом. Программа получает на вход 4 числа от 1 до 8, задающие номер столбца и номер строки сначала для первой клетки, потом для второй клетки. Программа должна вывести YES если из первой клетки ходом ладьи можно попать во вторую, или NO в противном случае"
   ]
  },
  {
   "cell_type": "code",
   "execution_count": null,
   "id": "04da774a",
   "metadata": {},
   "outputs": [],
   "source": [
    "x1 = int(input(\"X1: \"))\n",
    "y1 = int(input(\"Y1: \"))\n",
    "x2 = int(input(\"X2: \"))\n",
    "y2 = int(input(\"Y2: \"))\n",
    "if x1 == x2 or y1 == y2:\n",
    "    print(\"YES\")\n",
    "else:\n",
    "    print(\"NO\")"
   ]
  },
  {
   "cell_type": "markdown",
   "id": "b96fb3fe",
   "metadata": {},
   "source": [
    "3. Пусть пользователь придумывает пароль и вводит его с клавиатуры. Допустимым считается пароль, который состоит более чем из 8 символов и включает как прописные, так и заглавные буквы. Используя цикл while дождитесь, пока пользователь введет допустимый пароль"
   ]
  },
  {
   "cell_type": "code",
   "execution_count": 6,
   "id": "d2308cf7",
   "metadata": {},
   "outputs": [
    {
     "name": "stdout",
     "output_type": "stream",
     "text": [
      "Введите пароль: dddddddddddddddddddd\n",
      "Введите пароль: FFFFFFFFFFFFFFFFFFFFFFFFFFFFF\n",
      "Введите пароль: ldsfjaSDOFIJSODF\n",
      "Ура! \n"
     ]
    }
   ],
   "source": [
    "while True:\n",
    "    password = input(\"Введите пароль: \")\n",
    "    if len(password) > 8 and not password.isupper() and not password.islower():\n",
    "        print(\"Ура! \")\n",
    "        break"
   ]
  },
  {
   "cell_type": "code",
   "execution_count": null,
   "id": "c5b7f747",
   "metadata": {},
   "outputs": [],
   "source": []
  }
 ],
 "metadata": {
  "kernelspec": {
   "display_name": "Python 3 (ipykernel)",
   "language": "python",
   "name": "python3"
  },
  "language_info": {
   "codemirror_mode": {
    "name": "ipython",
    "version": 3
   },
   "file_extension": ".py",
   "mimetype": "text/x-python",
   "name": "python",
   "nbconvert_exporter": "python",
   "pygments_lexer": "ipython3",
   "version": "3.11.5"
  }
 },
 "nbformat": 4,
 "nbformat_minor": 5
}
