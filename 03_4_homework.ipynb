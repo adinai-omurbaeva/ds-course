{
 "cells": [
  {
   "cell_type": "markdown",
   "id": "f271d80b",
   "metadata": {},
   "source": [
    "1. Пусть пользователь вводит логин и пароль для регистрации. Напишите функцию, которая принимает логин и пароль в качестве аргументов и записывает в json файл. Подумайте над тем, в каких структурах данных лучше хранить данную информацию."
   ]
  },
  {
   "cell_type": "code",
   "execution_count": 20,
   "id": "31f4dc5d",
   "metadata": {},
   "outputs": [
    {
     "name": "stdout",
     "output_type": "stream",
     "text": [
      "Введите логин: 123\n",
      "Введите пароль: 123\n"
     ]
    }
   ],
   "source": [
    "import os\n",
    "import json\n",
    "file_url = os.path.join(os.getcwd(), \"userdata.json\")\n",
    "\n",
    "def save_user_data(username, password):\n",
    "    try:\n",
    "        with open(file_url, 'r') as file:\n",
    "            data = json.load(file)\n",
    "    except FileNotFoundError:\n",
    "        data = {}\n",
    "    data[username] = password\n",
    "    with open(file_url, 'w') as file:\n",
    "        json.dump(data, file)\n",
    "    \n",
    "username = input(\"Введите логин: \")\n",
    "password = input(\"Введите пароль: \")\n",
    "save_user_data(username, password)"
   ]
  },
  {
   "cell_type": "markdown",
   "id": "5f224023",
   "metadata": {},
   "source": [
    "2. Добавьте к вашей функции проверку на то, существует ли пользователь с таким логином в системе."
   ]
  },
  {
   "cell_type": "code",
   "execution_count": 23,
   "id": "52a80500",
   "metadata": {},
   "outputs": [
    {
     "name": "stdout",
     "output_type": "stream",
     "text": [
      "Введите логин: 123\n",
      "Введите пароль: 123\n",
      "Найден!\n"
     ]
    }
   ],
   "source": [
    "def check_user(username, password):\n",
    "    file_url = os.path.join(os.getcwd(), \"userdata.json\")\n",
    "    with open(file_url, 'r') as file:\n",
    "        data = json.load(file)\n",
    "        if data[username] == password:\n",
    "            return \"Найден\"\n",
    "    return \"Такого пользователя нет\"\n",
    "username = input(\"Введите логин: \")\n",
    "password = input(\"Введите пароль: \")\n",
    "print(check_user(username, password))   "
   ]
  },
  {
   "cell_type": "markdown",
   "id": "51d2ad02",
   "metadata": {},
   "source": [
    "3. Напишите функцию для входа пользователей в систему. Фунция должна проверять правильность логина и пароля, которые записаны в json файл"
   ]
  },
  {
   "cell_type": "code",
   "execution_count": 26,
   "id": "285ad8f6",
   "metadata": {},
   "outputs": [
    {
     "name": "stdout",
     "output_type": "stream",
     "text": [
      "Введите логин: 123\n",
      "Введите пароль: 1233\n",
      "Ошибка, повторите еще раз\n",
      "Введите логин: 123\n",
      "Введите пароль: 123\n",
      "Вы вошли в систему\n"
     ]
    }
   ],
   "source": [
    "def login(username, password):\n",
    "    file_url = os.path.join(os.getcwd(), \"userdata.json\")\n",
    "    with open(file_url, 'r') as file:\n",
    "        data = json.load(file)\n",
    "        if data[username] == password:\n",
    "            return True\n",
    "    return False\n",
    "\n",
    "while True:\n",
    "    username = input(\"Введите логин: \")\n",
    "    password = input(\"Введите пароль: \")\n",
    "    if login(username, password):\n",
    "        print(\"Вы вошли в систему\")\n",
    "        break\n",
    "    else:\n",
    "        print(\"Ошибка, повторите еще раз\")"
   ]
  },
  {
   "cell_type": "code",
   "execution_count": null,
   "id": "e23834a5",
   "metadata": {},
   "outputs": [],
   "source": []
  }
 ],
 "metadata": {
  "kernelspec": {
   "display_name": "Python 3 (ipykernel)",
   "language": "python",
   "name": "python3"
  },
  "language_info": {
   "codemirror_mode": {
    "name": "ipython",
    "version": 3
   },
   "file_extension": ".py",
   "mimetype": "text/x-python",
   "name": "python",
   "nbconvert_exporter": "python",
   "pygments_lexer": "ipython3",
   "version": "3.11.5"
  }
 },
 "nbformat": 4,
 "nbformat_minor": 5
}
