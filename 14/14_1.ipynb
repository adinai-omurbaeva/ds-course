{
 "cells": [
  {
   "cell_type": "code",
   "execution_count": 4,
   "id": "643612cd-dcde-428c-b1cc-ded1b9563a1e",
   "metadata": {},
   "outputs": [],
   "source": [
    "import pandas as pd\n",
    "import string\n",
    "from sklearn.feature_extraction.text import TfidfVectorizer\n",
    "from sklearn.model_selection import train_test_split\n",
    "from sklearn.svm import SVC\n",
    "from sklearn.metrics import classification_report\n",
    "import matplotlib.pyplot as plt\n",
    "import seaborn as sns"
   ]
  },
  {
   "cell_type": "code",
   "execution_count": 5,
   "id": "05ada5b0-33f5-4a9a-87cb-971338681b61",
   "metadata": {},
   "outputs": [
    {
     "name": "stderr",
     "output_type": "stream",
     "text": [
      "D:\\Users\\aomurbaeva\\AppData\\Local\\anaconda3\\envs\\ds-course\\Lib\\site-packages\\openpyxl\\worksheet\\_read_only.py:85: UserWarning: Unknown extension is not supported and will be removed\n",
      "  for idx, row in parser.parse():\n"
     ]
    },
    {
     "data": {
      "text/html": [
       "<div>\n",
       "<style scoped>\n",
       "    .dataframe tbody tr th:only-of-type {\n",
       "        vertical-align: middle;\n",
       "    }\n",
       "\n",
       "    .dataframe tbody tr th {\n",
       "        vertical-align: top;\n",
       "    }\n",
       "\n",
       "    .dataframe thead th {\n",
       "        text-align: right;\n",
       "    }\n",
       "</style>\n",
       "<table border=\"1\" class=\"dataframe\">\n",
       "  <thead>\n",
       "    <tr style=\"text-align: right;\">\n",
       "      <th></th>\n",
       "      <th>user</th>\n",
       "      <th>tweet</th>\n",
       "      <th>sentiment</th>\n",
       "      <th>1 - positive, 2 - negative, 3 - neutral</th>\n",
       "    </tr>\n",
       "  </thead>\n",
       "  <tbody>\n",
       "    <tr>\n",
       "      <th>0</th>\n",
       "      <td>disetv</td>\n",
       "      <td>#stl we war ready #ripmikebrown #ferguson http...</td>\n",
       "      <td>2</td>\n",
       "      <td>NaN</td>\n",
       "    </tr>\n",
       "    <tr>\n",
       "      <th>1</th>\n",
       "      <td>deray</td>\n",
       "      <td>one of the best moments from ystrdy was when a...</td>\n",
       "      <td>2</td>\n",
       "      <td>NaN</td>\n",
       "    </tr>\n",
       "    <tr>\n",
       "      <th>2</th>\n",
       "      <td>deray</td>\n",
       "      <td>public art. canfield. photo. #ferguson http://...</td>\n",
       "      <td>3</td>\n",
       "      <td>NaN</td>\n",
       "    </tr>\n",
       "    <tr>\n",
       "      <th>3</th>\n",
       "      <td>deray</td>\n",
       "      <td>canfield. public art cont. #ferguson http://if...</td>\n",
       "      <td>3</td>\n",
       "      <td>NaN</td>\n",
       "    </tr>\n",
       "    <tr>\n",
       "      <th>4</th>\n",
       "      <td>deray</td>\n",
       "      <td>public art exhibit. canfield. #ferguson http:/...</td>\n",
       "      <td>3</td>\n",
       "      <td>NaN</td>\n",
       "    </tr>\n",
       "    <tr>\n",
       "      <th>...</th>\n",
       "      <td>...</td>\n",
       "      <td>...</td>\n",
       "      <td>...</td>\n",
       "      <td>...</td>\n",
       "    </tr>\n",
       "    <tr>\n",
       "      <th>1201</th>\n",
       "      <td>wuperkins</td>\n",
       "      <td>#ferguson black man telling story of mopping c...</td>\n",
       "      <td>2</td>\n",
       "      <td>NaN</td>\n",
       "    </tr>\n",
       "    <tr>\n",
       "      <th>1202</th>\n",
       "      <td>wuperkins</td>\n",
       "      <td>@ryanjreilly very good. now if @govjaynixon wo...</td>\n",
       "      <td>3</td>\n",
       "      <td>NaN</td>\n",
       "    </tr>\n",
       "    <tr>\n",
       "      <th>1203</th>\n",
       "      <td>wuperkins</td>\n",
       "      <td>@chucktodd hopefully folks r traveling to #fer...</td>\n",
       "      <td>3</td>\n",
       "      <td>NaN</td>\n",
       "    </tr>\n",
       "    <tr>\n",
       "      <th>1204</th>\n",
       "      <td>wuperkins</td>\n",
       "      <td>@wesleylowery hold govt. accountable. #nojusti...</td>\n",
       "      <td>3</td>\n",
       "      <td>NaN</td>\n",
       "    </tr>\n",
       "    <tr>\n",
       "      <th>1205</th>\n",
       "      <td>NaN</td>\n",
       "      <td>@fetzer2 @elonjames @afmarcom @briandominick c...</td>\n",
       "      <td>2</td>\n",
       "      <td>NaN</td>\n",
       "    </tr>\n",
       "  </tbody>\n",
       "</table>\n",
       "<p>1206 rows × 4 columns</p>\n",
       "</div>"
      ],
      "text/plain": [
       "           user                                              tweet  sentiment  \\\n",
       "0        disetv  #stl we war ready #ripmikebrown #ferguson http...          2   \n",
       "1         deray  one of the best moments from ystrdy was when a...          2   \n",
       "2         deray  public art. canfield. photo. #ferguson http://...          3   \n",
       "3         deray  canfield. public art cont. #ferguson http://if...          3   \n",
       "4         deray  public art exhibit. canfield. #ferguson http:/...          3   \n",
       "...         ...                                                ...        ...   \n",
       "1201  wuperkins  #ferguson black man telling story of mopping c...          2   \n",
       "1202  wuperkins  @ryanjreilly very good. now if @govjaynixon wo...          3   \n",
       "1203  wuperkins  @chucktodd hopefully folks r traveling to #fer...          3   \n",
       "1204  wuperkins  @wesleylowery hold govt. accountable. #nojusti...          3   \n",
       "1205        NaN  @fetzer2 @elonjames @afmarcom @briandominick c...          2   \n",
       "\n",
       "      1 - positive, 2 - negative, 3 - neutral   \n",
       "0                                          NaN  \n",
       "1                                          NaN  \n",
       "2                                          NaN  \n",
       "3                                          NaN  \n",
       "4                                          NaN  \n",
       "...                                        ...  \n",
       "1201                                       NaN  \n",
       "1202                                       NaN  \n",
       "1203                                       NaN  \n",
       "1204                                       NaN  \n",
       "1205                                       NaN  \n",
       "\n",
       "[1206 rows x 4 columns]"
      ]
     },
     "execution_count": 5,
     "metadata": {},
     "output_type": "execute_result"
    }
   ],
   "source": [
    "df = pd.read_excel('Ferguson.xlsx')\n",
    "df"
   ]
  },
  {
   "cell_type": "code",
   "execution_count": 12,
   "id": "755a527d-18f3-4924-9e09-ca9d5d35764e",
   "metadata": {},
   "outputs": [
    {
     "name": "stdout",
     "output_type": "stream",
     "text": [
      "Распределение классов:\n",
      "sentiment\n",
      "3    647\n",
      "2    369\n",
      "1    190\n",
      "Name: count, dtype: int64\n"
     ]
    },
    {
     "data": {
      "image/png": "[encoded data removed]",
      "text/plain": [
       "<Figure size 640x480 with 1 Axes>"
      ]
     },
     "metadata": {},
     "output_type": "display_data"
    }
   ],
   "source": [
    "print(\"Распределение классов:\")\n",
    "print(df['sentiment'].value_counts())\n",
    "sns.countplot(x='sentiment', data=df)\n",
    "plt.title('Распределение классов')\n",
    "plt.show()"
   ]
  },
  {
   "cell_type": "code",
   "execution_count": 15,
   "id": "c3e7f248-25e9-45ec-9cc3-382d2e792d88",
   "metadata": {},
   "outputs": [
    {
     "name": "stdout",
     "output_type": "stream",
     "text": [
      "Первые строки данных после удаления пунктуации:\n",
      "0    stl we war ready ripmikebrown ferguson httpins...\n",
      "1    one of the best moments from ystrdy was when a...\n",
      "2    public art canfield photo ferguson httpiftttw1...\n",
      "3    canfield public art cont ferguson httpifttt1ld...\n",
      "4    public art exhibit canfield ferguson httpifttt...\n",
      "Name: tweet, dtype: object\n"
     ]
    }
   ],
   "source": [
    "def remove_punctuation(text):\n",
    "    if isinstance(text, str):\n",
    "        return text.translate(str.maketrans('', '', string.punctuation))\n",
    "    return text\n",
    "\n",
    "# Удаление пунктуации\n",
    "df['tweet'] = df['tweet'].apply(remove_punctuation)\n",
    "\n",
    "# Вывод для проверки на ошибки\n",
    "print(\"Первые строки данных после удаления пунктуации:\")\n",
    "print(df['tweet'].head())"
   ]
  },
  {
   "cell_type": "code",
   "execution_count": 16,
   "id": "d67c7f2d-e0f0-4fba-b1b5-f0f6c7209db8",
   "metadata": {},
   "outputs": [
    {
     "name": "stdout",
     "output_type": "stream",
     "text": [
      "              precision    recall  f1-score   support\n",
      "\n",
      "           1       0.69      0.24      0.35        38\n",
      "           2       0.68      0.38      0.49        74\n",
      "           3       0.63      0.92      0.75       130\n",
      "\n",
      "    accuracy                           0.64       242\n",
      "   macro avg       0.67      0.51      0.53       242\n",
      "weighted avg       0.66      0.64      0.61       242\n",
      "\n"
     ]
    }
   ],
   "source": [
    "# Преобразование данных в TF-IDF\n",
    "vectorizer = TfidfVectorizer(stop_words='english')\n",
    "X = vectorizer.fit_transform(df['tweet'].astype(str))\n",
    "y = df['sentiment']\n",
    "\n",
    "X_train, X_test, y_train, y_test = train_test_split(X, y, test_size=0.2, random_state=42, stratify=y)\n",
    "model = SVC(kernel='linear')\n",
    "model.fit(X_train, y_train)\n",
    "y_pred = model.predict(X_test)\n",
    "print(classification_report(y_test, y_pred))"
   ]
  },
  {
   "cell_type": "markdown",
   "id": "5d140b4f-5a5f-484d-9d16-10cef772f5c8",
   "metadata": {},
   "source": [
    "Модель хорошо идентифицирует позитивные сентименты. Общая точность составляет 0.64, что является неплохим значением\n",
    "\n",
    "Модель плохо идентифицирует негативные и нейтральные сентименты (низкая полнота для классов 1 и 2).\n",
    "Низкие значения F1-Score для классов 1 и 2 указывают на то, что модель часто путает эти сентименты с другими. Но возможно это происходит из-за общего количества сентиментов 1 и 2"
   ]
  },
  {
   "cell_type": "code",
   "execution_count": null,
   "id": "c7dd7b7d-f164-4fc2-b839-3eb304b94d11",
   "metadata": {},
   "outputs": [],
   "source": []
  }
 ],
 "metadata": {
  "kernelspec": {
   "display_name": "Python 3 (ipykernel)",
   "language": "python",
   "name": "python3"
  },
  "language_info": {
   "codemirror_mode": {
    "name": "ipython",
    "version": 3
   },
   "file_extension": ".py",
   "mimetype": "text/x-python",
   "name": "python",
   "nbconvert_exporter": "python",
   "pygments_lexer": "ipython3",
   "version": "3.8.19"
  }
 },
 "nbformat": 4,
 "nbformat_minor": 5
}
