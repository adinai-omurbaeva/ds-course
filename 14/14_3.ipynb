{
 "cells": [
  {
   "cell_type": "code",
   "execution_count": 44,
   "id": "76594316-613d-4d82-8352-b05513a6d345",
   "metadata": {},
   "outputs": [],
   "source": [
    "import pandas as pd\n",
    "import string\n",
    "import nltk\n",
    "import pymorphy2\n",
    "from nltk.corpus import stopwords\n",
    "from sklearn.feature_extraction.text import TfidfVectorizer\n",
    "from sklearn.model_selection import train_test_split, GridSearchCV, RandomizedSearchCV, cross_val_score\n",
    "import xgboost as xgb\n",
    "from sklearn.metrics import classification_report\n",
    "import matplotlib.pyplot as plt\n",
    "import seaborn as sns"
   ]
  },
  {
   "cell_type": "code",
   "execution_count": 54,
   "id": "8d1bd50e-82a0-4f58-829a-4674eca76128",
   "metadata": {},
   "outputs": [
    {
     "name": "stderr",
     "output_type": "stream",
     "text": [
      "[nltk_data] Downloading package stopwords to\n",
      "[nltk_data]     D:\\Users\\aomurbaeva\\AppData\\Roaming\\nltk_data...\n",
      "[nltk_data]   Package stopwords is already up-to-date!\n",
      "D:\\Users\\aomurbaeva\\AppData\\Local\\anaconda3\\envs\\ds\\lib\\site-packages\\openpyxl\\worksheet\\_read_only.py:85: UserWarning: Unknown extension is not supported and will be removed\n",
      "  for idx, row in parser.parse():\n"
     ]
    }
   ],
   "source": [
    "nltk.download('stopwords')\n",
    "stop_words = set(stopwords.words('english'))\n",
    "morph = pymorphy2.MorphAnalyzer()\n",
    "\n",
    "# Загрузка и предобработка датафрейма\n",
    "df = pd.read_excel('Ferguson.xlsx')\n",
    "df = df.dropna(axis=1, how='all')\n",
    "df = df.dropna(subset=['tweet', 'sentiment'])"
   ]
  },
  {
   "cell_type": "code",
   "execution_count": 55,
   "id": "1038fd21-9ce7-4ac5-900c-d47034d62142",
   "metadata": {},
   "outputs": [
    {
     "name": "stdout",
     "output_type": "stream",
     "text": [
      "Распределение классов:\n",
      "sentiment\n",
      "3    646\n",
      "2    369\n",
      "1    190\n",
      "Name: count, dtype: int64\n"
     ]
    },
    {
     "data": {
      "image/png": "[encoded data removed]",
      "text/plain": [
       "<Figure size 640x480 with 1 Axes>"
      ]
     },
     "metadata": {},
     "output_type": "display_data"
    }
   ],
   "source": [
    "print(\"Распределение классов:\")\n",
    "print(df['sentiment'].value_counts())\n",
    "sns.countplot(x='sentiment', data=df)\n",
    "plt.title('Распределение классов')\n",
    "plt.show()"
   ]
  },
  {
   "cell_type": "code",
   "execution_count": 56,
   "id": "504dd343-9eb3-4df6-9a52-8d97b88c2afe",
   "metadata": {},
   "outputs": [
    {
     "name": "stdout",
     "output_type": "stream",
     "text": [
      "Уникальные значения меток:\n",
      "[1 2 0]\n"
     ]
    }
   ],
   "source": [
    "def preprocess_text(text):\n",
    "    if isinstance(text, str):\n",
    "        text = text.translate(str.maketrans('', '', string.punctuation))  # Удаление пунктуации\n",
    "        words = text.split()\n",
    "        words = [morph.parse(word)[0].normal_form for word in words if word.lower() not in stop_words]  # Удаление стоп-слов и лемматизация\n",
    "        return ' '.join(words)\n",
    "    return ''\n",
    "df['tweet'] = df['tweet'].apply(preprocess_text)\n",
    "df['sentiment'] = df['sentiment'] - 1\n",
    "print(\"Уникальные значения меток:\")\n",
    "print(df['sentiment'].unique())"
   ]
  },
  {
   "cell_type": "code",
   "execution_count": 57,
   "id": "44811168-86d5-4741-9bc9-004f11c9bce9",
   "metadata": {},
   "outputs": [],
   "source": [
    "X = df['tweet']\n",
    "y = df['sentiment']\n",
    "\n",
    "# Разделение данных на обучающую и тестовую выборки\n",
    "X_train, X_test, y_train, y_test = train_test_split(X, y, test_size=0.2, random_state=42, stratify=y)\n",
    "\n",
    "# Создание пайплайна для TF-IDF и XGBoost\n",
    "from sklearn.pipeline import Pipeline\n",
    "\n",
    "pipeline = Pipeline([\n",
    "    ('tfidf', TfidfVectorizer()),\n",
    "    ('clf', xgb.XGBClassifier(objective='multi:softmax', num_class=3))\n",
    "])\n",
    "\n",
    "# Определение параметров для Grid Search\n",
    "parameters = {\n",
    "    'tfidf__max_df': [0.75, 1.0],\n",
    "    'tfidf__ngram_range': [(1, 1), (1, 2)],\n",
    "    'clf__n_estimators': [100, 200],\n",
    "    'clf__max_depth': [3, 6],\n",
    "    'clf__learning_rate': [0.01, 0.1]\n",
    "}"
   ]
  },
  {
   "cell_type": "code",
   "execution_count": 58,
   "id": "9b509451-9217-48de-a3f1-ff045216c940",
   "metadata": {},
   "outputs": [
    {
     "name": "stdout",
     "output_type": "stream",
     "text": [
      "Fitting 5 folds for each of 32 candidates, totalling 160 fits\n",
      "Лучшие параметры для XGBoost:\n",
      "{'clf__learning_rate': 0.1, 'clf__max_depth': 6, 'clf__n_estimators': 200, 'tfidf__max_df': 1.0, 'tfidf__ngram_range': (1, 1)}\n",
      "Отчет по классификации для XGBoost:\n",
      "              precision    recall  f1-score   support\n",
      "\n",
      "           1       0.56      0.24      0.33        38\n",
      "           2       0.58      0.30      0.39        74\n",
      "           3       0.63      0.91      0.74       129\n",
      "\n",
      "    accuracy                           0.61       241\n",
      "   macro avg       0.59      0.48      0.49       241\n",
      "weighted avg       0.60      0.61      0.57       241\n",
      "\n",
      "Cross-Validation scores: [0.49805961 0.53252603 0.4397699  0.54584394 0.51284438]\n",
      "Mean Cross-Validation score: 0.5058087735419705\n"
     ]
    }
   ],
   "source": [
    "grid_search = GridSearchCV(pipeline, parameters, cv=5, n_jobs=-1, verbose=1, scoring='f1_weighted')\n",
    "grid_search.fit(X_train, y_train)\n",
    "print(\"Лучшие параметры для XGBoost:\")\n",
    "print(grid_search.best_params_)\n",
    "y_pred = grid_search.predict(X_test)\n",
    "\n",
    "y_test = y_test + 1\n",
    "y_pred = y_pred + 1\n",
    "\n",
    "print(\"Отчет по классификации для XGBoost:\")\n",
    "print(classification_report(y_test, y_pred))\n",
    "\n",
    "# Кросс-валидация для оценки качества модели\n",
    "cv_scores = cross_val_score(grid_search.best_estimator_, X, y, cv=5, scoring='f1_weighted')\n",
    "print(f'Cross-Validation scores: {cv_scores}')\n",
    "print(f'Mean Cross-Validation score: {cv_scores.mean()}')"
   ]
  },
  {
   "cell_type": "markdown",
   "id": "47306dff-c425-4c6f-9827-bc80f9f51087",
   "metadata": {},
   "source": [
    "Выводы:\n",
    "Точность - Средний результат\n",
    "Macro avg F1-score: 0.49 – Низкий результат. Модель не очень хорошо сбалансирована по всем классам\n",
    "Weighted avg F1-score: 0.57 – Средний результат. Взвешенная F1-оценка также средняя, что указывает на умеренную общую производительность модели.\n",
    "Кросс-валидационные оценки: от 0.44 до 0.55 с средней оценкой 0.51 – Средний результат. Модель показывает стабильную, но не выдающуюся производительность при кросс-валидации.\n",
    "Общая оценка:\n",
    "Результаты модели можно считать средними"
   ]
  },
  {
   "cell_type": "code",
   "execution_count": null,
   "id": "ea62b150-01c1-4073-96c4-20f06199dc6e",
   "metadata": {},
   "outputs": [],
   "source": []
  }
 ],
 "metadata": {
  "kernelspec": {
   "display_name": "Python 3 (ipykernel)",
   "language": "python",
   "name": "python3"
  },
  "language_info": {
   "codemirror_mode": {
    "name": "ipython",
    "version": 3
   },
   "file_extension": ".py",
   "mimetype": "text/x-python",
   "name": "python",
   "nbconvert_exporter": "python",
   "pygments_lexer": "ipython3",
   "version": "3.8.19"
  }
 },
 "nbformat": 4,
 "nbformat_minor": 5
}
